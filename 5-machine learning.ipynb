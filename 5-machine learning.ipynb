{
 "cells": [
  {
   "cell_type": "markdown",
   "id": "58b57f34-06bd-406f-a4ba-3ff43358854e",
   "metadata": {},
   "source": [
    "## Part 5: Machine learning on graphs"
   ]
  },
  {
   "cell_type": "markdown",
   "id": "ef3979eb-fe06-4dac-93f8-846744da3ef4",
   "metadata": {},
   "source": [
    "### 5.1 Representation learning"
   ]
  },
  {
   "cell_type": "code",
   "execution_count": null,
   "id": "9e31fa51-381c-496d-8325-e41203497cf3",
   "metadata": {},
   "outputs": [],
   "source": [
    "#node2vec\n",
    "#attri2vec"
   ]
  },
  {
   "cell_type": "markdown",
   "id": "a484b27b-289b-4800-9e7c-95fa19e9eb83",
   "metadata": {},
   "source": [
    "### 5.2. Clustering"
   ]
  },
  {
   "cell_type": "code",
   "execution_count": 1,
   "id": "e3410c46-d58a-447f-905a-6e0f991590de",
   "metadata": {},
   "outputs": [],
   "source": [
    "# k-means\n",
    "# HDBSCAN"
   ]
  },
  {
   "cell_type": "markdown",
   "id": "d5619d3f-1311-4e97-9611-898e16a2f52e",
   "metadata": {},
   "source": [
    "### 5.3 Link prediction"
   ]
  },
  {
   "cell_type": "code",
   "execution_count": null,
   "id": "c04e2625-c181-46d5-b77f-138c52f9f2b5",
   "metadata": {},
   "outputs": [],
   "source": []
  }
 ],
 "metadata": {
  "kernelspec": {
   "display_name": "Python 3 (ipykernel)",
   "language": "python",
   "name": "python3"
  },
  "language_info": {
   "codemirror_mode": {
    "name": "ipython",
    "version": 3
   },
   "file_extension": ".py",
   "mimetype": "text/x-python",
   "name": "python",
   "nbconvert_exporter": "python",
   "pygments_lexer": "ipython3",
   "version": "3.8.0"
  }
 },
 "nbformat": 4,
 "nbformat_minor": 5
}
