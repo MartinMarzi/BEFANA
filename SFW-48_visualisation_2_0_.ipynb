{
 "cells": [
  {
   "cell_type": "code",
   "execution_count": 323,
   "id": "53d5f3e0-7469-4f78-8cbc-02aa2919b3ee",
   "metadata": {},
   "outputs": [],
   "source": [
    "import pandas as pd\n",
    "import networkx as nx\n",
    "import matplotlib.pyplot as plt\n",
    "import numpy as np\n",
    "from pyvis.network import Network as net"
   ]
  },
  {
   "cell_type": "code",
   "execution_count": 324,
   "id": "35110735-e489-49aa-8b3d-53d0840616bd",
   "metadata": {},
   "outputs": [],
   "source": [
    "g = nx.read_gpickle(\"objects/graph-A_3_0\")"
   ]
  },
  {
   "cell_type": "code",
   "execution_count": 325,
   "id": "ae9ba4dd-b219-48b6-8a39-d62234492ba1",
   "metadata": {},
   "outputs": [
    {
     "name": "stdout",
     "output_type": "stream",
     "text": [
      "DiGraph named 'Graph from soil food web adjacency matrix' with 24 nodes and 94 edges\n"
     ]
    }
   ],
   "source": [
    "print(nx.info(g))"
   ]
  },
  {
   "cell_type": "code",
   "execution_count": null,
   "id": "437234a6-4e8e-450a-8cf7-10377aa02420",
   "metadata": {},
   "outputs": [
    {
     "data": {
      "text/plain": [
       "NodeDataView({'11 Plant-feeding nematode': {'trophic_level': 1, 'Biomass': 479278.83999999997, 'Mass': 6.031837019417812, 'size': 10}, '31 Bacterivore nematode': {'trophic_level': 1, 'Biomass': 97189.95, 'Mass': 0.44778320101132774, 'size': 10}, '45 Substrate-ingesting earthworm': {'trophic_level': 1, 'Biomass': 20876194.67, 'Mass': 656677.5800017535, 'size': 10}, '23 Fungivore insect': {'trophic_level': 1, 'Biomass': 87314.16, 'Mass': 123.42029317311494, 'size': 10}, '24 Fungivore enchytraeid': {'trophic_level': 1, 'Biomass': 666025.6699999999, 'Mass': 469.51500281899325, 'size': 10}, '21 Fungivore nematode': {'trophic_level': 1, 'Biomass': 17869.440000000002, 'Mass': 0.060594173232088044, 'size': 10}, '81 Omnivore nematode': {'trophic_level': 2, 'Biomass': 301148.6, 'Mass': 1.6196323444430343, 'size': 10}, '13 Plant-feeding insect (springtail)': {'trophic_level': 1, 'Biomass': 12483.4, 'Mass': 8.82985650742963, 'size': 10}, '44 Substrate-inhabiting enchytraeid': {'trophic_level': 1, 'Biomass': 213718.46000000002, 'Mass': 109.48778868944353, 'size': 10}, '51 Predating nematode (consuming nematodes)': {'trophic_level': 3, 'Biomass': 43024.240000000005, 'Mass': 0.532567889263113, 'size': 10}, '72 Generalist mite': {'trophic_level': 3, 'Biomass': 31643.86, 'Mass': 58.23197646335491, 'size': 10}, '34 Bacterivore enchytraeid': {'trophic_level': 1, 'Biomass': 116602.3, 'Mass': 33.14754099441857, 'size': 10}, '82 Omnivore mite': {'trophic_level': 2, 'Biomass': 18770.75, 'Mass': 19.50319135008504, 'size': 10}, '12 Macrophytophage and panphytophage mite': {'trophic_level': 1, 'Biomass': 15889.73, 'Mass': 21.4219765600248, 'size': 10}, '36 Bacterivore amoebae': {'trophic_level': 1, 'Biomass': 430441.33, 'Mass': 4.332808765847162e-05, 'size': 10}, '37 Bacterivore flagellates': {'trophic_level': 1, 'Biomass': 147631.77, 'Mass': 5.581738950174688e-06, 'size': 10}, '#0 Plant autotrophs (roots)': {'trophic_level': 0, 'Biomass': 839114314.65, 'Mass': 839114314.6535658, 'size': 10}, '41 \"Passive lifestage, substrate-related nematode\"': {'trophic_level': 1, 'Biomass': 11682.96, 'Mass': 0.03982475480481081, 'size': 10}, '48 Primary (heterotrophic) producer bacteria': {'trophic_level': 0, 'Biomass': 9439998.08, 'Mass': 1.004856778050055e-07, 'size': 10}, '49 Primary (heterotrophic) producer fungi': {'trophic_level': 0, 'Biomass': 13499166.6, 'Mass': 13499166.596358478, 'size': 10}, '22 Microphytophage mite (feeding on fungi)': {'trophic_level': 1, 'Biomass': 15405.630000000001, 'Mass': 20.308585374564515, 'size': 10}, '62 Predatory mite (attacking arthropods)': {'trophic_level': 3, 'Biomass': 3162.28, 'Mass': 8.31763771102671, 'size': 10}, '52 Predatory mite (attacking nematodes)': {'trophic_level': 3, 'Biomass': 1230.27, 'Mass': 1.62181009735893, 'size': 10}, '92 Predatory mite (parasitizing mites and nematodes)': {'trophic_level': 3, 'Biomass': 0, 'Mass': 0, 'size': 10}})"
      ]
     },
     "execution_count": 368,
     "metadata": {},
     "output_type": "execute_result"
    }
   ],
   "source": [
    "g.nodes(data=True)"
   ]
  },
  {
   "cell_type": "code",
   "execution_count": 326,
   "id": "00e86f6b-a1e4-4bdf-b6cb-064ff2c7fbf3",
   "metadata": {},
   "outputs": [],
   "source": [
    "NxG = net('1300px', '1300px')\n",
    "# populates the nodes and edges data structures\n",
    "NxG.from_nx(g)"
   ]
  },
  {
   "cell_type": "code",
   "execution_count": 327,
   "id": "4e908a89-99fb-438e-be5c-bd3d65d19ceb",
   "metadata": {},
   "outputs": [
    {
     "data": {
      "text/plain": [
       "{'11 Plant-feeding nematode': 1,\n",
       " '31 Bacterivore nematode': 1,\n",
       " '45 Substrate-ingesting earthworm': 1,\n",
       " '23 Fungivore insect': 1,\n",
       " '24 Fungivore enchytraeid': 1,\n",
       " '21 Fungivore nematode': 1,\n",
       " '81 Omnivore nematode': 2,\n",
       " '13 Plant-feeding insect (springtail)': 1,\n",
       " '44 Substrate-inhabiting enchytraeid': 1,\n",
       " '51 Predating nematode (consuming nematodes)': 3,\n",
       " '72 Generalist mite': 3,\n",
       " '34 Bacterivore enchytraeid': 1,\n",
       " '82 Omnivore mite': 2,\n",
       " '12 Macrophytophage and panphytophage mite': 1,\n",
       " '36 Bacterivore amoebae': 1,\n",
       " '37 Bacterivore flagellates': 1,\n",
       " '#0 Plant autotrophs (roots)': 0,\n",
       " '41 \"Passive lifestage, substrate-related nematode\"': 1,\n",
       " '48 Primary (heterotrophic) producer bacteria': 0,\n",
       " '49 Primary (heterotrophic) producer fungi': 0,\n",
       " '22 Microphytophage mite (feeding on fungi)': 1,\n",
       " '62 Predatory mite (attacking arthropods)': 3,\n",
       " '52 Predatory mite (attacking nematodes)': 3,\n",
       " '92 Predatory mite (parasitizing mites and nematodes)': 3}"
      ]
     },
     "execution_count": 327,
     "metadata": {},
     "output_type": "execute_result"
    }
   ],
   "source": [
    "# Import trophic level as node attribute\n",
    "trophic_levels = pd.read_csv(\"data/trophic_levels_1_0.csv\", index_col=0, header=None, delimiter=\";\", names=[\"trophic_level\"])\n",
    "trophic_levels = trophic_levels.squeeze()\n",
    "\n",
    "# Create dict from trophic level Series\n",
    "troph_lev_dict = trophic_levels.to_dict()\n",
    "troph_lev_dict"
   ]
  },
  {
   "cell_type": "code",
   "execution_count": 328,
   "id": "5e9920e6-1c6b-439b-96da-f396b3671628",
   "metadata": {},
   "outputs": [],
   "source": [
    "trophic_levels = list(troph_lev_dict.values())\n",
    "colours = []\n",
    "for _ in trophic_levels:\n",
    "    if _ == 0:\n",
    "        colours.append(\"#40E0D0\")\n",
    "    elif _ == 1:\n",
    "        colours.append(\"#DFFF00\")\n",
    "    elif _ == 2:\n",
    "        colours.append(\"#FFBF00\")\n",
    "    elif _ == 3:\n",
    "        colours.append(\"#DE3163\")"
   ]
  },
  {
   "cell_type": "code",
   "execution_count": 329,
   "id": "862f64c2-df75-49d7-9c67-4b109b5f81a0",
   "metadata": {},
   "outputs": [],
   "source": [
    "# Create a PyVis graph G\n",
    "G = net('1300px', '1300px')\n",
    "nodes = list(g.nodes()) \n",
    "G.add_nodes(nodes, color=colours)"
   ]
  },
  {
   "cell_type": "markdown",
   "id": "64267b4d-ab7b-4d3a-8c3a-4c01bc3a0af7",
   "metadata": {},
   "source": [
    "### Create network divided by trophic level 0 as source"
   ]
  },
  {
   "cell_type": "code",
   "execution_count": 330,
   "id": "a6e745f8-195f-49a7-b7aa-75fdf8cde50b",
   "metadata": {},
   "outputs": [],
   "source": [
    "# list of primary producers\n",
    "primaries = [\"#0 Plant autotrophs (roots)\", \"48 Primary (heterotrophic) producer bacteria\", \"49 Primary (heterotrophic) producer fungi\"]"
   ]
  },
  {
   "cell_type": "markdown",
   "id": "dfe456b6-4b97-4151-a10c-18c726475f64",
   "metadata": {},
   "source": [
    "#### 48 bacteria"
   ]
  },
  {
   "cell_type": "code",
   "execution_count": 401,
   "id": "c19d50b1-a1c7-4804-85f7-b282392661da",
   "metadata": {},
   "outputs": [],
   "source": [
    "# Keep only one primary producer in a new network\n",
    "g48 = nx.read_gpickle(\"objects/graph-A_3_0\")\n",
    "\n",
    "# list of primary producers\n",
    "primaries = [\"#0 Plant autotrophs (roots)\", \"48 Primary (heterotrophic) producer bacteria\", \"49 Primary (heterotrophic) producer fungi\"]\n",
    "\n",
    "# selected primary porducer\n",
    "primary = \"48 Primary (heterotrophic) producer bacteria\"\n",
    "\n",
    "# define network nodes\n",
    "for n in primaries:\n",
    "    if n != primary:\n",
    "        # remove from Nxgraph\n",
    "        g48.remove_node(n) \n",
    "        \n",
    "# remove from nodes list\n",
    "nodes48 = list(g48.nodes())\n",
    "\n",
    "# map trophic level to colours\n",
    "colours = []\n",
    "for n in nodes48:\n",
    "    tl = troph_lev_dict[n]\n",
    "    if tl == 0:\n",
    "        colours.append(\"#40E0D0\")\n",
    "    elif tl == 1:\n",
    "        colours.append(\"#DFFF00\")\n",
    "    elif tl == 2:\n",
    "        colours.append(\"#FFBF00\")\n",
    "    elif tl == 3:\n",
    "        colours.append(\"#DE3163\")"
   ]
  },
  {
   "cell_type": "code",
   "execution_count": 402,
   "id": "a31fc915-fdb2-4b0e-8675-e90f9cd0a91c",
   "metadata": {},
   "outputs": [],
   "source": [
    "# Remove nodes from trophic level 1 without link to trophic level 0\n",
    "good_nodes48_2l = []\n",
    "for n in nodes48:\n",
    "    for source, target in list(g48.in_edges(n)):\n",
    "        if g48.nodes[n][\"trophic_level\"] == 1 and source == primary:\n",
    "            good_nodes48_2l.append(n)\n",
    "\n",
    "# list of all nodes on trophic level 1\n",
    "all_nodes48_2l = []\n",
    "for n in list(g48.nodes()):\n",
    "    if g48.nodes[n][\"trophic_level\"] == 1:\n",
    "        all_nodes48_2l.append(n)\n",
    "\n",
    "\n",
    "# make list of bad nodes:\n",
    "bad_nodes48_2l = all_nodes48_2l.copy()\n",
    "for _ in good_nodes48_2l:\n",
    "    bad_nodes48_2l.remove(_)\n",
    "\n",
    "g48.remove_nodes_from(bad_nodes48_2l)"
   ]
  },
  {
   "cell_type": "code",
   "execution_count": 403,
   "id": "5f094e6f-9453-47fb-93f6-54d50294fea7",
   "metadata": {},
   "outputs": [
    {
     "data": {
      "text/plain": [
       "\"DiGraph named 'Graph from soil food web adjacency matrix' with 15 nodes and 52 edges\""
      ]
     },
     "execution_count": 403,
     "metadata": {},
     "output_type": "execute_result"
    }
   ],
   "source": [
    "nx.info(g48)"
   ]
  },
  {
   "cell_type": "code",
   "execution_count": 404,
   "id": "a76a3f54-ce30-4a1e-b5d9-332351a73a31",
   "metadata": {},
   "outputs": [],
   "source": [
    "# Create a list (of tuples) of edges of a network for the chose primary producer as source\n",
    "edgesG48 = []\n",
    "for source, target in list(g48.edges()):\n",
    "    if g48.nodes[target][\"trophic_level\"] >= g48.nodes[source][\"trophic_level\"]:\n",
    "        edgesG48.append((source, target))"
   ]
  },
  {
   "cell_type": "code",
   "execution_count": 405,
   "id": "42fcb705-7e5e-437d-bd62-4befb3ba4efe",
   "metadata": {},
   "outputs": [],
   "source": [
    "# Create a PyVis graph for this primary producer\n",
    "G48 = net('1300px', '1300px')\n",
    "G48.add_nodes(nodes48, color=colours)\n",
    "\n",
    "# Add edges to PyVis graph\n",
    "for source, target in edgesG48:\n",
    "    G48.add_edge(source, target)"
   ]
  },
  {
   "cell_type": "code",
   "execution_count": 399,
   "id": "514640b1-302b-4125-b0fe-c49758a78864",
   "metadata": {
    "tags": []
   },
   "outputs": [],
   "source": [
    "# Edges take on the color of the node they are coming from.\n",
    "G48.inherit_edge_colors(status=True)"
   ]
  },
  {
   "cell_type": "code",
   "execution_count": 406,
   "id": "05e97a3d-bddd-404f-8430-674919dca7df",
   "metadata": {},
   "outputs": [],
   "source": [
    "G48.show_buttons(filter_=True)\n",
    "G48.show('SFW-48_1.html')"
   ]
  },
  {
   "cell_type": "code",
   "execution_count": 337,
   "id": "c59028fa-f61a-4c96-b580-713d302cc185",
   "metadata": {},
   "outputs": [],
   "source": [
    "# G48.set_options(\"\"\"\n",
    "# var options = {\n",
    "#   \"nodes\": {\n",
    "#     \"font\": {\n",
    "#       \"size\": 15,\n",
    "#       \"strokeWidth\": 5\n",
    "#     }\n",
    "#   },\n",
    "#   \"edges\": {\n",
    "#     \"arrows\": {\n",
    "#       \"middle\": {\n",
    "#         \"enabled\": true,\n",
    "#         \"scaleFactor\": 0.8\n",
    "#       }\n",
    "#     },\n",
    "#     \"color\": {\n",
    "#       \"inherit\": true\n",
    "#     },\n",
    "#     \"smooth\": false\n",
    "#   },\n",
    "#   \"physics\": {\n",
    "#     \"enabled\": false,\n",
    "#     \"minVelocity\": 0.75\n",
    "#   }\n",
    "# }\n",
    "# \"\"\") \n",
    "# G48.show('SFW-48_1.html')"
   ]
  },
  {
   "cell_type": "code",
   "execution_count": null,
   "id": "fe762ef6-34a7-487a-9300-a6b22e261781",
   "metadata": {},
   "outputs": [],
   "source": []
  }
 ],
 "metadata": {
  "kernelspec": {
   "display_name": "Python 3 (ipykernel)",
   "language": "python",
   "name": "python3"
  },
  "language_info": {
   "codemirror_mode": {
    "name": "ipython",
    "version": 3
   },
   "file_extension": ".py",
   "mimetype": "text/x-python",
   "name": "python",
   "nbconvert_exporter": "python",
   "pygments_lexer": "ipython3",
   "version": "3.8.0"
  }
 },
 "nbformat": 4,
 "nbformat_minor": 5
}
