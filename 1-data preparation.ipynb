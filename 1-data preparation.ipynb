{
 "cells": [
  {
   "cell_type": "markdown",
   "id": "75da26ec-c242-47af-813d-bdfbc8e519d4",
   "metadata": {
    "tags": []
   },
   "source": [
    "# BEFANA: A Tool for Biodiversity-Ecosystem Functioning Assessment by Network Analysis\n",
    "\n",
    "## Part 1: Preparing the environment and loading the data"
   ]
  },
  {
   "cell_type": "code",
   "execution_count": null,
   "id": "b8abb3f4-4392-4127-911b-81e303acf348",
   "metadata": {},
   "outputs": [],
   "source": [
    "!pip -q install \"jupyterlab==3.2.*\"\n",
    "!pip -q install \"ipywidgets==7.6.*\"\n",
    "!pip -q install \"matplotlib==3.5.*\"\n",
    "!pip -q install \"pandas==1.4.*\"\n",
    "!pip -q install \"networkx==2.6.*\""
   ]
  },
  {
   "cell_type": "code",
   "execution_count": 3,
   "id": "1436b2b0-7e4f-4750-93f1-ce4818877a72",
   "metadata": {},
   "outputs": [],
   "source": [
    "import io\n",
    "import codecs\n",
    "import pandas as pd\n",
    "\n",
    "import ipywidgets as widgets\n",
    "from ipywidgets import interact, interactive, fixed, interact_manual,  HBox, VBox\n",
    "from IPython.display import display, HTML\n",
    "\n",
    "from utils.ui_functions import StopExecution, make_download_button, alert_user\n",
    "from utils.conf import my_style, my_layout"
   ]
  },
  {
   "cell_type": "markdown",
   "id": "002b6047-655b-4cd1-a4aa-1828c4912b8a",
   "metadata": {},
   "source": [
    "### 1.1 Loading the network matrix"
   ]
  },
  {
   "cell_type": "markdown",
   "id": "a1a4fe31-5ff5-43d4-ac7c-4dfb10d7ae22",
   "metadata": {},
   "source": [
    "Load the ajacency matrix containing the information on the interaction network and proceed to the next cell. The sample data can be downloaded [here.](https://raw.githubusercontent.com/MartinMarzi/BEFANA/main/data/sfw_matrix.csv)"
   ]
  },
  {
   "cell_type": "code",
   "execution_count": 4,
   "id": "e78dabf1-ae00-4b2b-97b2-7ededc7ef82e",
   "metadata": {},
   "outputs": [
    {
     "data": {
      "application/vnd.jupyter.widget-view+json": {
       "model_id": "58de339cb92842cfbe51e2d90c88c21c",
       "version_major": 2,
       "version_minor": 0
      },
      "text/plain": [
       "FileUpload(value={}, description='Upload')"
      ]
     },
     "metadata": {},
     "output_type": "display_data"
    }
   ],
   "source": [
    "widgets.FileUpload(accept='.csv',multiple=False)\n",
    "matrix_uploader = widgets.FileUpload()\n",
    "display(matrix_uploader)"
   ]
  },
  {
   "cell_type": "markdown",
   "id": "84c25811-aedb-4d4f-b1c6-b85fe5cd13bb",
   "metadata": {},
   "source": [
    "After the below cell is run the loaded adjacnecy matrix is displayed and one can use the GUI sliders to adjust its view."
   ]
  },
  {
   "cell_type": "code",
   "execution_count": 6,
   "id": "351584ca-0201-4b9e-81f0-93d57e8efa82",
   "metadata": {},
   "outputs": [
    {
     "data": {
      "application/vnd.jupyter.widget-view+json": {
       "model_id": "ab7fe66eeccf4285a04fd4951e74cf8c",
       "version_major": 2,
       "version_minor": 0
      },
      "text/plain": [
       "interactive(children=(IntSlider(value=5, description='Rows:', max=24, min=3), IntSlider(value=10, description=…"
      ]
     },
     "metadata": {},
     "output_type": "display_data"
    }
   ],
   "source": [
    "try:\n",
    "    matrix_file_name, matrix_file_data = list(matrix_uploader.value.items())[0]\n",
    "except Exception:\n",
    "    alert_user('Please load the food web matrix data file the cell above!\\nThe program cannot continue without this data.')\n",
    "    raise StopExecution    \n",
    "sfw_matrix = pd.read_csv(io.StringIO(codecs.decode(matrix_file_data['content'], encoding=\"utf-8\")),\n",
    "                         header=0, \n",
    "                         index_col=0, \n",
    "                         sep=\",\")\n",
    "\n",
    "if sfw_matrix.shape[0]!=sfw_matrix.shape[1]:\n",
    "    alert_user('Invalid graph matrix: it must have NxN shape.')\n",
    "    raise StopExecution\n",
    "\n",
    "@interact(nrows=widgets.IntSlider(description='Rows:', min=3, max=sfw_matrix.shape[1], step=1, value=5),\n",
    "          ncols=widgets.IntSlider(description='Columns:', min=3, max=sfw_matrix.shape[0], step=1, value=10))\n",
    "def show_soil_food_web_matrix(nrows, ncols):\n",
    "    pd.set_option(\"display.max_rows\", nrows)\n",
    "    pd.set_option(\"display.max_columns\", ncols)\n",
    "    display(sfw_matrix)"
   ]
  },
  {
   "cell_type": "markdown",
   "id": "24b95279-0e6a-47a1-9553-1a2ad5e72d23",
   "metadata": {
    "tags": []
   },
   "source": [
    "### 1.2 Loading the trophic level matrix\n",
    "\n",
    "If we have the trophic level data it is possible to load it here. It must have the `Nx1` shape. If no such data is available, the following two cells are skipped and the trophic level will not be used (all nodes will have the same value). The sample data can be downloaded [here.](https://raw.githubusercontent.com/MartinMarzi/BEFANA/main/data/sfw_trophic_levels.csv) "
   ]
  },
  {
   "cell_type": "code",
   "execution_count": 7,
   "id": "11d81fab-fd41-4ae9-8f3d-589ea74ab8c8",
   "metadata": {},
   "outputs": [
    {
     "data": {
      "application/vnd.jupyter.widget-view+json": {
       "model_id": "4e0e08cf86ad40f881404ed21a9ece44",
       "version_major": 2,
       "version_minor": 0
      },
      "text/plain": [
       "FileUpload(value={}, description='Upload')"
      ]
     },
     "metadata": {},
     "output_type": "display_data"
    }
   ],
   "source": [
    "widgets.FileUpload(accept='csv',multiple=False)\n",
    "trophic_level_uploader = widgets.FileUpload()\n",
    "display(trophic_level_uploader)"
   ]
  },
  {
   "cell_type": "code",
   "execution_count": 9,
   "id": "cec7b2f2-c408-458b-a9a0-3fab2f6fece5",
   "metadata": {},
   "outputs": [
    {
     "data": {
      "text/html": [
       "<div>\n",
       "<style scoped>\n",
       "    .dataframe tbody tr th:only-of-type {\n",
       "        vertical-align: middle;\n",
       "    }\n",
       "\n",
       "    .dataframe tbody tr th {\n",
       "        vertical-align: top;\n",
       "    }\n",
       "\n",
       "    .dataframe thead th {\n",
       "        text-align: right;\n",
       "    }\n",
       "</style>\n",
       "<table border=\"1\" class=\"dataframe\">\n",
       "  <thead>\n",
       "    <tr style=\"text-align: right;\">\n",
       "      <th></th>\n",
       "      <th>trophic_level</th>\n",
       "    </tr>\n",
       "  </thead>\n",
       "  <tbody>\n",
       "    <tr>\n",
       "      <th>49 Primary (heterotrophic) producer fungi</th>\n",
       "      <td>0</td>\n",
       "    </tr>\n",
       "    <tr>\n",
       "      <th>48 Primary (heterotrophic) producer bacteria</th>\n",
       "      <td>0</td>\n",
       "    </tr>\n",
       "    <tr>\n",
       "      <th>#0 Plant autotrophs (roots)</th>\n",
       "      <td>0</td>\n",
       "    </tr>\n",
       "    <tr>\n",
       "      <th>11 Plant-feeding nematode</th>\n",
       "      <td>1</td>\n",
       "    </tr>\n",
       "    <tr>\n",
       "      <th>22 Microphytophage mite (feeding on fungi)</th>\n",
       "      <td>1</td>\n",
       "    </tr>\n",
       "    <tr>\n",
       "      <th>41 \"Passive lifestage, substrate-related nematode\"</th>\n",
       "      <td>1</td>\n",
       "    </tr>\n",
       "    <tr>\n",
       "      <th>37 Bacterivore flagellates</th>\n",
       "      <td>1</td>\n",
       "    </tr>\n",
       "    <tr>\n",
       "      <th>36 Bacterivore amoebae</th>\n",
       "      <td>1</td>\n",
       "    </tr>\n",
       "    <tr>\n",
       "      <th>12 Macrophytophage and panphytophage mite</th>\n",
       "      <td>1</td>\n",
       "    </tr>\n",
       "    <tr>\n",
       "      <th>34 Bacterivore enchytraeid</th>\n",
       "      <td>1</td>\n",
       "    </tr>\n",
       "    <tr>\n",
       "      <th>44 Substrate-inhabiting enchytraeid</th>\n",
       "      <td>1</td>\n",
       "    </tr>\n",
       "    <tr>\n",
       "      <th>13 Plant-feeding insect (springtail)</th>\n",
       "      <td>1</td>\n",
       "    </tr>\n",
       "    <tr>\n",
       "      <th>21 Fungivore nematode</th>\n",
       "      <td>1</td>\n",
       "    </tr>\n",
       "    <tr>\n",
       "      <th>24 Fungivore enchytraeid</th>\n",
       "      <td>1</td>\n",
       "    </tr>\n",
       "    <tr>\n",
       "      <th>23 Fungivore insect</th>\n",
       "      <td>1</td>\n",
       "    </tr>\n",
       "    <tr>\n",
       "      <th>45 Substrate-ingesting earthworm</th>\n",
       "      <td>1</td>\n",
       "    </tr>\n",
       "    <tr>\n",
       "      <th>31 Bacterivore nematode</th>\n",
       "      <td>1</td>\n",
       "    </tr>\n",
       "    <tr>\n",
       "      <th>82 Omnivore mite</th>\n",
       "      <td>2</td>\n",
       "    </tr>\n",
       "    <tr>\n",
       "      <th>81 Omnivore nematode</th>\n",
       "      <td>2</td>\n",
       "    </tr>\n",
       "    <tr>\n",
       "      <th>72 Generalist mite</th>\n",
       "      <td>3</td>\n",
       "    </tr>\n",
       "    <tr>\n",
       "      <th>52 Predatory mite (attacking nematodes)</th>\n",
       "      <td>3</td>\n",
       "    </tr>\n",
       "    <tr>\n",
       "      <th>62 Predatory mite (attacking arthropods)</th>\n",
       "      <td>3</td>\n",
       "    </tr>\n",
       "    <tr>\n",
       "      <th>51 Predating nematode (consuming nematodes)</th>\n",
       "      <td>3</td>\n",
       "    </tr>\n",
       "    <tr>\n",
       "      <th>92 Predatory mite (parasitizing mites and nematodes)</th>\n",
       "      <td>3</td>\n",
       "    </tr>\n",
       "  </tbody>\n",
       "</table>\n",
       "</div>"
      ],
      "text/plain": [
       "                                                    trophic_level\n",
       "49 Primary (heterotrophic) producer fungi                       0\n",
       "48 Primary (heterotrophic) producer bacteria                    0\n",
       "#0 Plant autotrophs (roots)                                     0\n",
       "11 Plant-feeding nematode                                       1\n",
       "22 Microphytophage mite (feeding on fungi)                      1\n",
       "41 \"Passive lifestage, substrate-related nematode\"              1\n",
       "37 Bacterivore flagellates                                      1\n",
       "36 Bacterivore amoebae                                          1\n",
       "12 Macrophytophage and panphytophage mite                       1\n",
       "34 Bacterivore enchytraeid                                      1\n",
       "44 Substrate-inhabiting enchytraeid                             1\n",
       "13 Plant-feeding insect (springtail)                            1\n",
       "21 Fungivore nematode                                           1\n",
       "24 Fungivore enchytraeid                                        1\n",
       "23 Fungivore insect                                             1\n",
       "45 Substrate-ingesting earthworm                                1\n",
       "31 Bacterivore nematode                                         1\n",
       "82 Omnivore mite                                                2\n",
       "81 Omnivore nematode                                            2\n",
       "72 Generalist mite                                              3\n",
       "52 Predatory mite (attacking nematodes)                         3\n",
       "62 Predatory mite (attacking arthropods)                        3\n",
       "51 Predating nematode (consuming nematodes)                     3\n",
       "92 Predatory mite (parasitizing mites and nemat...              3"
      ]
     },
     "metadata": {},
     "output_type": "display_data"
    }
   ],
   "source": [
    "try:\n",
    "    trophic_level_file_name, trophic_level_file_data = list(trophic_level_uploader.value.items())[0]\n",
    "except Exception:\n",
    "    alert_user('Please load the file with trophic level data in the cell above!\\nThe program cannot continue without trophic level data.')\n",
    "    raise StopExecution\n",
    "trophic_levels = pd.read_csv(io.StringIO(codecs.decode(trophic_level_file_data['content'], encoding='utf-8')),\n",
    "                             index_col=0, header=None, delimiter=\",\", names=['trophic_level'])\n",
    "\n",
    "if trophic_levels.shape[1]!=1:\n",
    "    alert_user('Invalid thropic matrix: it must have Nx1 shape.')\n",
    "    raise StopExecution\n",
    "if trophic_levels.shape[0] != sfw_matrix.shape[0]:\n",
    "    alert_user('Invalid number of rows in the trophic matrix: trophic level must be defined for all organisms (nodes).')\n",
    "    raise StopExecution\n",
    "    \n",
    "pd.set_option('display.max_rows', None)\n",
    "display(trophic_levels.sort_values('trophic_level'))\n",
    "trophic_levels = trophic_levels.squeeze()"
   ]
  },
  {
   "cell_type": "markdown",
   "id": "5482b5f1-3521-4676-9ec9-78716d3189be",
   "metadata": {},
   "source": [
    "Finally, we store the created data structures so they will be available in other notebooks."
   ]
  },
  {
   "cell_type": "code",
   "execution_count": 10,
   "id": "53deaa8f-c732-4536-890d-6fd9b7344db9",
   "metadata": {},
   "outputs": [],
   "source": [
    "sfw_matrix.to_pickle('results/sfw_matrix.pickle')\n",
    "trophic_levels.to_pickle('results/trophic_levels.pickle')"
   ]
  },
  {
   "cell_type": "code",
   "execution_count": null,
   "id": "581d8bf4-9b50-456d-9b59-e1331da565ff",
   "metadata": {},
   "outputs": [],
   "source": []
  }
 ],
 "metadata": {
  "kernelspec": {
   "display_name": "Python 3 (ipykernel)",
   "language": "python",
   "name": "python3"
  },
  "language_info": {
   "codemirror_mode": {
    "name": "ipython",
    "version": 3
   },
   "file_extension": ".py",
   "mimetype": "text/x-python",
   "name": "python",
   "nbconvert_exporter": "python",
   "pygments_lexer": "ipython3",
   "version": "3.8.0"
  }
 },
 "nbformat": 4,
 "nbformat_minor": 5
}
