{
 "cells": [
  {
   "cell_type": "code",
   "execution_count": null,
   "id": "9e31fa51-381c-496d-8325-e41203497cf3",
   "metadata": {},
   "outputs": [],
   "source": [
    "#node2vec\n",
    "#attri2vec"
   ]
  }
 ],
 "metadata": {
  "kernelspec": {
   "display_name": "Python 3 (ipykernel)",
   "language": "python",
   "name": "python3"
  },
  "language_info": {
   "codemirror_mode": {
    "name": "ipython",
    "version": 3
   },
   "file_extension": ".py",
   "mimetype": "text/x-python",
   "name": "python",
   "nbconvert_exporter": "python",
   "pygments_lexer": "ipython3",
   "version": "3.8.10"
  }
 },
 "nbformat": 4,
 "nbformat_minor": 5
}
