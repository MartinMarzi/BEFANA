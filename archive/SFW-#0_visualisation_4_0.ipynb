{
 "cells": [
  {
   "cell_type": "code",
   "execution_count": 1,
   "id": "53d5f3e0-7469-4f78-8cbc-02aa2919b3ee",
   "metadata": {},
   "outputs": [],
   "source": [
    "import pandas as pd\n",
    "import networkx as nx\n",
    "import matplotlib.pyplot as plt\n",
    "import numpy as np\n",
    "from pyvis.network import Network as net"
   ]
  },
  {
   "cell_type": "code",
   "execution_count": 2,
   "id": "35110735-e489-49aa-8b3d-53d0840616bd",
   "metadata": {},
   "outputs": [],
   "source": [
    "g = nx.read_gpickle(\"objects/graph-A_4_0\")"
   ]
  },
  {
   "cell_type": "code",
   "execution_count": 3,
   "id": "ae9ba4dd-b219-48b6-8a39-d62234492ba1",
   "metadata": {},
   "outputs": [
    {
     "name": "stdout",
     "output_type": "stream",
     "text": [
      "DiGraph named 'Graph from soil food web adjacency matrix' with 24 nodes and 94 edges\n"
     ]
    }
   ],
   "source": [
    "print(nx.info(g))"
   ]
  },
  {
   "cell_type": "code",
   "execution_count": 4,
   "id": "437234a6-4e8e-450a-8cf7-10377aa02420",
   "metadata": {},
   "outputs": [
    {
     "data": {
      "text/plain": [
       "NodeDataView({'11 Plant-feeding nematode': {'trophic_level': 1, 'Biomass': 479278.83999999997, 'Mass': 6.031837019417812, 'Abundance': 5676284.275202691}, '31 Bacterivore nematode': {'trophic_level': 1, 'Biomass': 97189.95, 'Mass': 0.44778320101132774, 'Abundance': 3181672.1161827142}, '45 Substrate-ingesting earthworm': {'trophic_level': 1, 'Biomass': 20876194.67, 'Mass': 656677.5800017535, 'Abundance': 173.5702447926805}, '23 Fungivore insect': {'trophic_level': 1, 'Biomass': 87314.16, 'Mass': 123.42029317311494, 'Abundance': 8701.836333857438}, '24 Fungivore enchytraeid': {'trophic_level': 1, 'Biomass': 666025.6699999999, 'Mass': 469.51500281899325, 'Abundance': 13310.658374003238}, '21 Fungivore nematode': {'trophic_level': 1, 'Biomass': 17869.440000000002, 'Mass': 0.060594173232088044, 'Abundance': 1048594.941974038}, '81 Omnivore nematode': {'trophic_level': 2, 'Biomass': 301148.6, 'Mass': 1.6196323444430343, 'Abundance': 773069.3288475692}, '13 Plant-feeding insect (springtail)': {'trophic_level': 1, 'Biomass': 12483.4, 'Mass': 8.82985650742963, 'Abundance': 5310.792677093564}, '44 Substrate-inhabiting enchytraeid': {'trophic_level': 1, 'Biomass': 213718.46000000002, 'Mass': 109.48778868944353, 'Abundance': 6365.4950819679325}, '51 Predating nematode (consuming nematodes)': {'trophic_level': 3, 'Biomass': 43024.240000000005, 'Mass': 0.532567889263113, 'Abundance': 230263.53051196696}, '72 Generalist mite': {'trophic_level': 3, 'Biomass': 31643.86, 'Mass': 58.23197646335491, 'Abundance': 1138.7669713497448}, '34 Bacterivore enchytraeid': {'trophic_level': 1, 'Biomass': 116602.3, 'Mass': 33.14754099441857, 'Abundance': 8643.648459550895}, '82 Omnivore mite': {'trophic_level': 2, 'Biomass': 18770.75, 'Mass': 19.50319135008504, 'Abundance': 13816.088850122196}, '12 Macrophytophage and panphytophage mite': {'trophic_level': 1, 'Biomass': 15889.73, 'Mass': 21.4219765600248, 'Abundance': 2086.5386357332395}, '36 Bacterivore amoebae': {'trophic_level': 1, 'Biomass': 430441.33, 'Mass': 4.332808765847162e-05, 'Abundance': 9829816720.416014}, '37 Bacterivore flagellates': {'trophic_level': 1, 'Biomass': 147631.77, 'Mass': 5.581738950174688e-06, 'Abundance': 26332257413.09639}, '#0 Plant autotrophs (roots)': {'trophic_level': 0, 'Biomass': 839114314.65, 'Mass': 839114314.6535658, 'Abundance': 1.0}, '41 \"Passive lifestage, substrate-related nematode\"': {'trophic_level': 1, 'Biomass': 11682.96, 'Mass': 0.03982475480481081, 'Abundance': 283337.1119769788}, '48 Primary (heterotrophic) producer bacteria': {'trophic_level': 0, 'Biomass': 9439998.08, 'Mass': 1.004856778050055e-07, 'Abundance': 93732668261632.48}, '49 Primary (heterotrophic) producer fungi': {'trophic_level': 0, 'Biomass': 13499166.6, 'Mass': 13499166.596358478, 'Abundance': 1.0}, '22 Microphytophage mite (feeding on fungi)': {'trophic_level': 1, 'Biomass': 15405.630000000001, 'Mass': 20.308585374564515, 'Abundance': 3034.310300116734}, '62 Predatory mite (attacking arthropods)': {'trophic_level': 3, 'Biomass': 3162.28, 'Mass': 8.31763771102671, 'Abundance': 380.1893963205613}, '52 Predatory mite (attacking nematodes)': {'trophic_level': 3, 'Biomass': 1230.27, 'Mass': 1.62181009735893, 'Abundance': 758.5775750291835}, '92 Predatory mite (parasitizing mites and nematodes)': {'trophic_level': 3, 'Biomass': 0, 'Mass': 0, 'Abundance': 0}})"
      ]
     },
     "execution_count": 4,
     "metadata": {},
     "output_type": "execute_result"
    }
   ],
   "source": [
    "g.nodes(data=True)"
   ]
  },
  {
   "cell_type": "markdown",
   "id": "64267b4d-ab7b-4d3a-8c3a-4c01bc3a0af7",
   "metadata": {},
   "source": [
    "## Create network divided by trophic level 0 as source"
   ]
  },
  {
   "cell_type": "code",
   "execution_count": 5,
   "id": "a6e745f8-195f-49a7-b7aa-75fdf8cde50b",
   "metadata": {},
   "outputs": [],
   "source": [
    "# list of primary producers\n",
    "prim_prod = [\"#0 Plant autotrophs (roots)\", \"48 Primary (heterotrophic) producer bacteria\", \"49 Primary (heterotrophic) producer fungi\"]"
   ]
  },
  {
   "cell_type": "code",
   "execution_count": 6,
   "id": "c19d50b1-a1c7-4804-85f7-b282392661da",
   "metadata": {},
   "outputs": [],
   "source": [
    "# Keep only one primary producer in a new network\n",
    "g0 = nx.read_gpickle(\"objects/graph-A_4_0\")\n",
    "\n",
    "# selected primary porducer\n",
    "primary = \"#0 Plant autotrophs (roots)\"\n",
    "\n",
    "# remove other primary producer nodes\n",
    "for n in prim_prod:\n",
    "    if n != primary:\n",
    "        # remove from Nxgraph\n",
    "        g0.remove_node(n) "
   ]
  },
  {
   "cell_type": "code",
   "execution_count": 7,
   "id": "ddd760e4-44d7-4cfc-b4e3-602cfbd33caa",
   "metadata": {},
   "outputs": [],
   "source": [
    "# Remove invalid edges (trophic level must be eaqual or increase from source to target node) \n",
    "g_itr = g0.copy()\n",
    "for source, target in g_itr.edges():\n",
    "    if g_itr.nodes[source]['trophic_level'] > g_itr.nodes[target]['trophic_level']:\n",
    "        g0.remove_edge(source, target)"
   ]
  },
  {
   "cell_type": "code",
   "execution_count": 8,
   "id": "faec785f-ece6-47c6-8524-37235a099fbc",
   "metadata": {},
   "outputs": [
    {
     "name": "stdout",
     "output_type": "stream",
     "text": [
      "{'52 Predatory mite (attacking nematodes)', '51 Predating nematode (consuming nematodes)', '81 Omnivore nematode', '11 Plant-feeding nematode', '72 Generalist mite', '62 Predatory mite (attacking arthropods)', '82 Omnivore mite', '45 Substrate-ingesting earthworm', '12 Macrophytophage and panphytophage mite', '92 Predatory mite (parasitizing mites and nematodes)', '13 Plant-feeding insect (springtail)'}\n",
      "['31 Bacterivore nematode', '23 Fungivore insect', '24 Fungivore enchytraeid', '21 Fungivore nematode', '44 Substrate-inhabiting enchytraeid', '34 Bacterivore enchytraeid', '36 Bacterivore amoebae', '37 Bacterivore flagellates', '#0 Plant autotrophs (roots)', '41 \"Passive lifestage, substrate-related nematode\"', '22 Microphytophage mite (feeding on fungi)']\n"
     ]
    }
   ],
   "source": [
    "# Remove unreachable nodes\n",
    "\n",
    "# Find reachable nodes\n",
    "reach_nodes = nx.descendants(g0, \"#0 Plant autotrophs (roots)\")\n",
    "print(reach_nodes)\n",
    "\n",
    "# unreachable nodes\n",
    "unreach_nodes = [node for node in list(g0.nodes()) if node not in reach_nodes]\n",
    "print(unreach_nodes)\n",
    "\n",
    "# Remove unreachable nodes \n",
    "for node in unreach_nodes:\n",
    "    if node != primary:\n",
    "        g0.remove_node(node)"
   ]
  },
  {
   "cell_type": "code",
   "execution_count": 9,
   "id": "8125168c-7a63-49e6-ae04-89f794d3bf81",
   "metadata": {},
   "outputs": [
    {
     "data": {
      "text/plain": [
       "\"DiGraph named 'Graph from soil food web adjacency matrix' with 12 nodes and 43 edges\""
      ]
     },
     "execution_count": 9,
     "metadata": {},
     "output_type": "execute_result"
    }
   ],
   "source": [
    "nx.info(g0)"
   ]
  },
  {
   "cell_type": "markdown",
   "id": "c15da480-1148-4827-ae17-37b13694fe3c",
   "metadata": {},
   "source": [
    "### Metric - proportion of nodes/eges to total graph"
   ]
  },
  {
   "cell_type": "code",
   "execution_count": 10,
   "id": "55bb0894-16cd-488f-b627-ec75986ab8a0",
   "metadata": {},
   "outputs": [
    {
     "name": "stdout",
     "output_type": "stream",
     "text": [
      "Proportion of nodes in sub-network vs. total network: 0.5\n",
      "Proportion of edges in sub-network vs. total network: 0.4574468085106383\n"
     ]
    }
   ],
   "source": [
    "n_prop = g0.number_of_nodes() / g.number_of_nodes()\n",
    "print(f\"Proportion of nodes in sub-network vs. total network: {n_prop}\")\n",
    "\n",
    "e_prop = g0.number_of_edges() / g.number_of_edges()\n",
    "print(f\"Proportion of edges in sub-network vs. total network: {e_prop}\")"
   ]
  },
  {
   "cell_type": "markdown",
   "id": "65441b28-87c2-4aed-ab4c-18ef5e1b62c6",
   "metadata": {
    "tags": []
   },
   "source": [
    "## Visualisation"
   ]
  },
  {
   "cell_type": "code",
   "execution_count": 11,
   "id": "4e908a89-99fb-438e-be5c-bd3d65d19ceb",
   "metadata": {},
   "outputs": [],
   "source": [
    "# Import trophic level as node attribute\n",
    "trophic_levels = pd.read_csv(\"data/trophic_levels_1_0.csv\", index_col=0, header=None, delimiter=\";\", names=[\"trophic_level\"])\n",
    "trophic_levels = trophic_levels.squeeze()\n",
    "\n",
    "# Create dict from trophic level Series\n",
    "troph_lev_dict = trophic_levels.to_dict()"
   ]
  },
  {
   "cell_type": "code",
   "execution_count": 12,
   "id": "996eb8c1-788b-4477-99d1-7d5b6982f6d7",
   "metadata": {},
   "outputs": [],
   "source": [
    "tlevel = list(troph_lev_dict.values())\n",
    "colours = [\"#40E0D0\", \"#DFFF00\", \"#FFBF00\", \"#DE3163\"]\n",
    "tlevel2color = {lev: colours[lev] for lev in tlevel}\n",
    "\n",
    "def chunkstring(string, length):\n",
    "    return (string[0+i:length+i] for i in range(0, len(string), length))\n",
    "\n",
    "# Create a PyVis graph G\n",
    "G0 = net('800px', '1200px')\n",
    "# nodes = list(g.nodes())\n",
    "for node in g0.nodes():\n",
    "    G0.add_node(node, \n",
    "               label='\\n'.join(chunkstring(node,15)), \n",
    "               level=max(trophic_levels) - troph_lev_dict[node], \n",
    "               shape='box',\n",
    "               color=tlevel2color[troph_lev_dict[node]])\n",
    "    \n",
    "# Add edges to PyVis graph\n",
    "for source, target in list(g0.edges()):\n",
    "    G0.add_edge(source, target)\n",
    "    \n",
    "# Edges take on the color of the node they are coming from.\n",
    "G0.inherit_edge_colors(status=True)"
   ]
  },
  {
   "cell_type": "code",
   "execution_count": 13,
   "id": "d73b41d5-1ab5-4dd2-8669-8da34cbe8e92",
   "metadata": {},
   "outputs": [],
   "source": [
    "options= \"\"\"\n",
    "var options = {\n",
    "  \"edges\": {\n",
    "    \"arrows\": {\n",
    "      \"middle\": {\n",
    "        \"enabled\": true,\n",
    "        \"scaleFactor\": 0.85\n",
    "      }\n",
    "    },\n",
    "    \"color\": {\n",
    "      \"inherit\": true\n",
    "    },\n",
    "    \"smooth\": false\n",
    "  },\n",
    "  \"layout\": {\n",
    "    \"hierarchical\": {\n",
    "      \"enabled\": true,\n",
    "      \"nodeSpacing\": 200\n",
    "    }\n",
    "  },\n",
    "  \"interaction\": {\n",
    "    \"hover\": true,\n",
    "    \"navigationButtons\": true,\n",
    "    \"multiselect\": true\n",
    "  },\n",
    "  \"manipulation\": {\n",
    "    \"enabled\": true,\n",
    "    \"initiallyActive\": true\n",
    "  },\n",
    "  \"physics\": {\n",
    "    \"enabled\": true,\n",
    "    \"hierarchicalRepulsion\": {\n",
    "      \"centralGravity\": 0,\n",
    "      \"nodeDistance\": 190\n",
    "    },\n",
    "    \"minVelocity\": 0.75,\n",
    "    \"solver\": \"hierarchicalRepulsion\"\n",
    "  },\n",
    "  \"configure\": {\n",
    "    \"enabled\": true\n",
    "  }\n",
    "}\n",
    "\"\"\"\n",
    "# G.write_html('SFW_2.html')\n",
    "G0.conf = True\n",
    "G0.set_options(options)\n",
    "# G.show_buttons(filter_=True)  # if we enable this after setting options there is a bug so we use conf=True and JS settings\n",
    "G0.write_html('SFW0-1_0.html')"
   ]
  },
  {
   "cell_type": "code",
   "execution_count": 14,
   "id": "05e97a3d-bddd-404f-8430-674919dca7df",
   "metadata": {},
   "outputs": [],
   "source": [
    "# G0.show_buttons(filter_=True)\n",
    "# G0.show('SFW0-0_1.html')"
   ]
  },
  {
   "cell_type": "code",
   "execution_count": 15,
   "id": "c59028fa-f61a-4c96-b580-713d302cc185",
   "metadata": {},
   "outputs": [],
   "source": [
    "# G48.set_options(\"\"\"\n",
    "# var options = {\n",
    "#   \"nodes\": {\n",
    "#     \"font\": {\n",
    "#       \"size\": 15,\n",
    "#       \"strokeWidth\": 5\n",
    "#     }\n",
    "#   },\n",
    "#   \"edges\": {\n",
    "#     \"arrows\": {\n",
    "#       \"middle\": {\n",
    "#         \"enabled\": true,\n",
    "#         \"scaleFactor\": 0.8\n",
    "#       }\n",
    "#     },\n",
    "#     \"color\": {\n",
    "#       \"inherit\": true\n",
    "#     },\n",
    "#     \"smooth\": false\n",
    "#   },\n",
    "#   \"physics\": {\n",
    "#     \"enabled\": false,\n",
    "#     \"minVelocity\": 0.75\n",
    "#   }\n",
    "# }\n",
    "# \"\"\") \n",
    "# G48.show('SFW-48_1.html')"
   ]
  },
  {
   "cell_type": "code",
   "execution_count": null,
   "id": "fe762ef6-34a7-487a-9300-a6b22e261781",
   "metadata": {},
   "outputs": [],
   "source": []
  }
 ],
 "metadata": {
  "kernelspec": {
   "display_name": "Python 3 (ipykernel)",
   "language": "python",
   "name": "python3"
  },
  "language_info": {
   "codemirror_mode": {
    "name": "ipython",
    "version": 3
   },
   "file_extension": ".py",
   "mimetype": "text/x-python",
   "name": "python",
   "nbconvert_exporter": "python",
   "pygments_lexer": "ipython3",
   "version": "3.8.0"
  }
 },
 "nbformat": 4,
 "nbformat_minor": 5
}
