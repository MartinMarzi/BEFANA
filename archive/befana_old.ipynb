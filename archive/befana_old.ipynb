{
 "cells": [
  {
   "cell_type": "markdown",
   "id": "2c1ae4cb-894c-4144-a0c1-b6fee4f4714a",
   "metadata": {},
   "source": [
    "# Soil food web interactive analysis and visualization \n",
    "\n",
    "This notebook implements our approach to interactive analysis and visualization of soil food webs using Jupyter notebooks and interactive IPython widgets. Therefore, it does not require programming skills beyond setting parameter values and running parts of the notebook. ... BLABLA"
   ]
  },
  {
   "cell_type": "markdown",
   "id": "69a2c87c-3da8-4929-a3dc-98247bdd113c",
   "metadata": {},
   "source": [
    "## Part 1: preparing the environment and loading the data\n",
    "\n",
    "In the very first part of the notebook all the required modules and libraries are imported and few helper functions are defined. Next, a data file containing the soil food network in the form of a `NxN` 0/1 matrix is loaded using the widget which allows uploading a file to the memory. Currently, `.csv` files are supported. The matrix is also displayed inline to ensure that the data was loaded correctly."
   ]
  },
  {
   "cell_type": "code",
   "execution_count": 1,
   "id": "9b128616-19ae-4cd1-a22b-3962bfdaa4ec",
   "metadata": {},
   "outputs": [],
   "source": [
    "%load_ext autoreload\n",
    "%autoreload 2"
   ]
  },
  {
   "cell_type": "code",
   "execution_count": 2,
   "id": "08b9f944",
   "metadata": {},
   "outputs": [],
   "source": [
    "import importlib\n",
    "import io\n",
    "import codecs\n",
    "import pandas as pd\n",
    "import networkx as nx\n",
    "import matplotlib.pyplot as plt\n",
    "import matplotlib\n",
    "import numpy as np\n",
    "from pyvis.network import Network as net\n",
    "\n",
    "import ipywidgets as widgets\n",
    "from ipywidgets import interact, interactive, fixed, interact_manual,  HBox, VBox\n",
    "from IPython.display import display, HTML\n",
    "\n",
    "from utils.ui_functions import alert, StopExecution, make_download_button\n",
    "from utils.conf import my_style, my_layout\n",
    "\n",
    "alert_user = lambda message: display(HTML(alert(message)))"
   ]
  },
  {
   "cell_type": "markdown",
   "id": "bf6c1244-f5f9-4d22-b064-11a55cf784ad",
   "metadata": {},
   "source": [
    "## 1.1 Loading the network matrix"
   ]
  },
  {
   "cell_type": "code",
   "execution_count": 3,
   "id": "fe2c504f-7689-4bf4-9899-5502fce8d7ba",
   "metadata": {},
   "outputs": [
    {
     "data": {
      "application/vnd.jupyter.widget-view+json": {
       "model_id": "1ee94651d57948cda31f0f3286302efe",
       "version_major": 2,
       "version_minor": 0
      },
      "text/plain": [
       "FileUpload(value={}, description='Upload')"
      ]
     },
     "metadata": {},
     "output_type": "display_data"
    }
   ],
   "source": [
    "widgets.FileUpload(accept='.csv',multiple=False)\n",
    "matrix_uploader = widgets.FileUpload()\n",
    "display(matrix_uploader)"
   ]
  },
  {
   "cell_type": "code",
   "execution_count": 4,
   "id": "50dc8941-c3d5-4adb-8af4-86edcddce2e3",
   "metadata": {},
   "outputs": [
    {
     "data": {
      "application/vnd.jupyter.widget-view+json": {
       "model_id": "2c0ba97784f64d8bac4bbf56aafca21a",
       "version_major": 2,
       "version_minor": 0
      },
      "text/plain": [
       "interactive(children=(IntSlider(value=5, description='Rows:', max=24, min=3), IntSlider(value=10, description=…"
      ]
     },
     "metadata": {},
     "output_type": "display_data"
    }
   ],
   "source": [
    "try:\n",
    "    matrix_file_name, matrix_file_data = list(matrix_uploader.value.items())[0]\n",
    "except Exception:\n",
    "    alert_user('Please load the food web matrix data file the cell above!\\nThe program cannot continue without this data.')\n",
    "    raise StopExecution    \n",
    "sfw_matrix = pd.read_csv(io.StringIO(codecs.decode(matrix_file_data['content'], encoding=\"utf-8\")),\n",
    "                         header=0, \n",
    "                         index_col=0, \n",
    "                         sep=\";\")\n",
    "\n",
    "if sfw_matrix.shape[0]!=sfw_matrix.shape[1]:\n",
    "    alert_user('Invalid graph matrix: it must have NxN shape.')\n",
    "    raise StopExecution\n",
    "\n",
    "@interact(nrows=widgets.IntSlider(description='Rows:', min=3, max=sfw_matrix.shape[1], step=1, value=5),\n",
    "          ncols=widgets.IntSlider(description='Columns:', min=3, max=sfw_matrix.shape[0], step=1, value=10))\n",
    "def show_soil_food_web_matrix(nrows, ncols):\n",
    "    pd.set_option(\"display.max_rows\", nrows)\n",
    "    pd.set_option(\"display.max_columns\", ncols)\n",
    "    display(sfw_matrix)"
   ]
  },
  {
   "cell_type": "markdown",
   "id": "8f209d73-f6af-4d69-ab32-d6190dab013e",
   "metadata": {
    "tags": []
   },
   "source": [
    "### 1.2 Loading the trophic level matrix\n",
    "\n",
    "If we have the trophic level data it is possible to load it here. It must have the `Nx1` shape. If no such data is available, the following two cells are skipped and the trophic level will not be used (all nodes will have the same value)."
   ]
  },
  {
   "cell_type": "code",
   "execution_count": 5,
   "id": "89665f21-9cae-417e-af21-4117714598b0",
   "metadata": {},
   "outputs": [
    {
     "data": {
      "application/vnd.jupyter.widget-view+json": {
       "model_id": "e32249c3b68f41b9a4c97ee0956de982",
       "version_major": 2,
       "version_minor": 0
      },
      "text/plain": [
       "FileUpload(value={}, description='Upload')"
      ]
     },
     "metadata": {},
     "output_type": "display_data"
    }
   ],
   "source": [
    "widgets.FileUpload(accept='csv',multiple=False)\n",
    "trophic_level_uploader = widgets.FileUpload()\n",
    "display(trophic_level_uploader)"
   ]
  },
  {
   "cell_type": "code",
   "execution_count": 6,
   "id": "85cccf06-b4c7-4bbc-8b54-5cf1d743498b",
   "metadata": {},
   "outputs": [
    {
     "data": {
      "text/html": [
       "<div>\n",
       "<style scoped>\n",
       "    .dataframe tbody tr th:only-of-type {\n",
       "        vertical-align: middle;\n",
       "    }\n",
       "\n",
       "    .dataframe tbody tr th {\n",
       "        vertical-align: top;\n",
       "    }\n",
       "\n",
       "    .dataframe thead th {\n",
       "        text-align: right;\n",
       "    }\n",
       "</style>\n",
       "<table border=\"1\" class=\"dataframe\">\n",
       "  <thead>\n",
       "    <tr style=\"text-align: right;\">\n",
       "      <th></th>\n",
       "      <th>trophic_level</th>\n",
       "    </tr>\n",
       "  </thead>\n",
       "  <tbody>\n",
       "    <tr>\n",
       "      <th>49 Primary (heterotrophic) producer fungi</th>\n",
       "      <td>0</td>\n",
       "    </tr>\n",
       "    <tr>\n",
       "      <th>48 Primary (heterotrophic) producer bacteria</th>\n",
       "      <td>0</td>\n",
       "    </tr>\n",
       "    <tr>\n",
       "      <th>#0 Plant autotrophs (roots)</th>\n",
       "      <td>0</td>\n",
       "    </tr>\n",
       "    <tr>\n",
       "      <th>11 Plant-feeding nematode</th>\n",
       "      <td>1</td>\n",
       "    </tr>\n",
       "    <tr>\n",
       "      <th>22 Microphytophage mite (feeding on fungi)</th>\n",
       "      <td>1</td>\n",
       "    </tr>\n",
       "    <tr>\n",
       "      <th>41 \"Passive lifestage, substrate-related nematode\"</th>\n",
       "      <td>1</td>\n",
       "    </tr>\n",
       "    <tr>\n",
       "      <th>37 Bacterivore flagellates</th>\n",
       "      <td>1</td>\n",
       "    </tr>\n",
       "    <tr>\n",
       "      <th>36 Bacterivore amoebae</th>\n",
       "      <td>1</td>\n",
       "    </tr>\n",
       "    <tr>\n",
       "      <th>12 Macrophytophage and panphytophage mite</th>\n",
       "      <td>1</td>\n",
       "    </tr>\n",
       "    <tr>\n",
       "      <th>34 Bacterivore enchytraeid</th>\n",
       "      <td>1</td>\n",
       "    </tr>\n",
       "    <tr>\n",
       "      <th>44 Substrate-inhabiting enchytraeid</th>\n",
       "      <td>1</td>\n",
       "    </tr>\n",
       "    <tr>\n",
       "      <th>13 Plant-feeding insect (springtail)</th>\n",
       "      <td>1</td>\n",
       "    </tr>\n",
       "    <tr>\n",
       "      <th>21 Fungivore nematode</th>\n",
       "      <td>1</td>\n",
       "    </tr>\n",
       "    <tr>\n",
       "      <th>24 Fungivore enchytraeid</th>\n",
       "      <td>1</td>\n",
       "    </tr>\n",
       "    <tr>\n",
       "      <th>23 Fungivore insect</th>\n",
       "      <td>1</td>\n",
       "    </tr>\n",
       "    <tr>\n",
       "      <th>45 Substrate-ingesting earthworm</th>\n",
       "      <td>1</td>\n",
       "    </tr>\n",
       "    <tr>\n",
       "      <th>31 Bacterivore nematode</th>\n",
       "      <td>1</td>\n",
       "    </tr>\n",
       "    <tr>\n",
       "      <th>82 Omnivore mite</th>\n",
       "      <td>2</td>\n",
       "    </tr>\n",
       "    <tr>\n",
       "      <th>81 Omnivore nematode</th>\n",
       "      <td>2</td>\n",
       "    </tr>\n",
       "    <tr>\n",
       "      <th>72 Generalist mite</th>\n",
       "      <td>3</td>\n",
       "    </tr>\n",
       "    <tr>\n",
       "      <th>52 Predatory mite (attacking nematodes)</th>\n",
       "      <td>3</td>\n",
       "    </tr>\n",
       "    <tr>\n",
       "      <th>62 Predatory mite (attacking arthropods)</th>\n",
       "      <td>3</td>\n",
       "    </tr>\n",
       "    <tr>\n",
       "      <th>51 Predating nematode (consuming nematodes)</th>\n",
       "      <td>3</td>\n",
       "    </tr>\n",
       "    <tr>\n",
       "      <th>92 Predatory mite (parasitizing mites and nematodes)</th>\n",
       "      <td>3</td>\n",
       "    </tr>\n",
       "  </tbody>\n",
       "</table>\n",
       "</div>"
      ],
      "text/plain": [
       "                                                    trophic_level\n",
       "49 Primary (heterotrophic) producer fungi                       0\n",
       "48 Primary (heterotrophic) producer bacteria                    0\n",
       "#0 Plant autotrophs (roots)                                     0\n",
       "11 Plant-feeding nematode                                       1\n",
       "22 Microphytophage mite (feeding on fungi)                      1\n",
       "41 \"Passive lifestage, substrate-related nematode\"              1\n",
       "37 Bacterivore flagellates                                      1\n",
       "36 Bacterivore amoebae                                          1\n",
       "12 Macrophytophage and panphytophage mite                       1\n",
       "34 Bacterivore enchytraeid                                      1\n",
       "44 Substrate-inhabiting enchytraeid                             1\n",
       "13 Plant-feeding insect (springtail)                            1\n",
       "21 Fungivore nematode                                           1\n",
       "24 Fungivore enchytraeid                                        1\n",
       "23 Fungivore insect                                             1\n",
       "45 Substrate-ingesting earthworm                                1\n",
       "31 Bacterivore nematode                                         1\n",
       "82 Omnivore mite                                                2\n",
       "81 Omnivore nematode                                            2\n",
       "72 Generalist mite                                              3\n",
       "52 Predatory mite (attacking nematodes)                         3\n",
       "62 Predatory mite (attacking arthropods)                        3\n",
       "51 Predating nematode (consuming nematodes)                     3\n",
       "92 Predatory mite (parasitizing mites and nemat...              3"
      ]
     },
     "metadata": {},
     "output_type": "display_data"
    }
   ],
   "source": [
    "try:\n",
    "    trophic_level_file_name, trophic_level_file_data = list(trophic_level_uploader.value.items())[0]\n",
    "except Exception:\n",
    "    alert_user('Please load the file with trophic level data in the cell above!\\nThe program cannot continue without trophic level data.')\n",
    "    raise StopExecution\n",
    "trophic_levels = pd.read_csv(io.StringIO(codecs.decode(trophic_level_file_data['content'], encoding='utf-8')),\n",
    "                             index_col=0, header=None, delimiter=\";\", names=['trophic_level'])\n",
    "\n",
    "if trophic_levels.shape[1]!=1:\n",
    "    alert_user('Invalid thropic matrix: it must have Nx1 shape.')\n",
    "    raise StopExecution\n",
    "if trophic_levels.shape[0] != sfw_matrix.shape[0]:\n",
    "    alert_user('Invalid number of rows in the trophic matrix: trophic level must be defined for all organisms (nodes).')\n",
    "    raise StopExecution\n",
    "    \n",
    "pd.set_option('display.max_rows', None)\n",
    "display(trophic_levels.sort_values('trophic_level'))\n",
    "trophic_levels = trophic_levels.squeeze()\n",
    "trophic_levels_dict = trophic_levels.to_dict()"
   ]
  },
  {
   "cell_type": "markdown",
   "id": "62fb7262-5af7-4f3f-8644-96932c2779d8",
   "metadata": {},
   "source": [
    "## Part 2\n",
    "\n",
    "### 2.1 Network construction\n",
    "\n",
    "Using the provided adjacency matrix data and the trophic level data we will create the network structure and offer basic editing functions. "
   ]
  },
  {
   "cell_type": "code",
   "execution_count": 7,
   "id": "ca527aec-9532-402a-a595-b5fcf1f23fbe",
   "metadata": {},
   "outputs": [
    {
     "data": {
      "application/vnd.jupyter.widget-view+json": {
       "model_id": "e8b3c032bed746ff927a601b2536a3e6",
       "version_major": 2,
       "version_minor": 0
      },
      "text/plain": [
       "Output(layout=Layout(border='1px solid blue'))"
      ]
     },
     "metadata": {},
     "output_type": "display_data"
    },
    {
     "data": {
      "application/vnd.jupyter.widget-view+json": {
       "model_id": "2e5da85f81be4c7198a7181a6f94ffee",
       "version_major": 2,
       "version_minor": 0
      },
      "text/plain": [
       "HBox(children=(Text(value='My network', description='Name:', placeholder='The name of this network', style=Des…"
      ]
     },
     "metadata": {},
     "output_type": "display_data"
    }
   ],
   "source": [
    "G = nx.from_pandas_adjacency(sfw_matrix, create_using=nx.DiGraph)\n",
    "# remove default edge weights\n",
    "for n1, n2, d in G.edges(data=True):\n",
    "    d.clear()\n",
    "    \n",
    "graph_name_input = widgets.Text(placeholder='The name of this network', value='My network', description='Name:', disabled=False, style=my_style)\n",
    "rename_button = widgets.Button(description='Rename', disabled=False, button_style='primary',icon='edit')\n",
    "rename_log = widgets.Output(layout={'border': '1px solid blue'})\n",
    "display(rename_log)\n",
    "def rename_graph(widget_name):\n",
    "    G.name = graph_name_input.value\n",
    "    rename_log.clear_output()\n",
    "    rename_log.append_display_data(f'Graph renamed to \"{G.name}\"')\n",
    "rename_button.on_click(rename_graph)\n",
    "\n",
    "# TODO make sure the network has a name\n",
    "HBox([graph_name_input, rename_button])"
   ]
  },
  {
   "cell_type": "code",
   "execution_count": 8,
   "id": "e027f7e6-430b-45d6-9a70-097663b35365",
   "metadata": {},
   "outputs": [
    {
     "name": "stdout",
     "output_type": "stream",
     "text": [
      "--- Basic network info ---\n",
      "Name: My network\n",
      "Type: directed\n",
      "Nodes: 24\n",
      "Edges: 94\n",
      "Strongly connected: no\n",
      "Density: 0.17029\n"
     ]
    }
   ],
   "source": [
    "if not G.name:\n",
    "    alert_user('The network does not have a name!\\nPlease use the \"Rename\" button in the above cell.')\n",
    "    raise StopExecution\n",
    "\n",
    "print('--- Basic network info ---')\n",
    "print(f'Name: {G.name}')\n",
    "typ = 'directed' if nx.is_directed(G) else 'undirected'\n",
    "print(f'Type: {typ}')\n",
    "print(f'Nodes: {G.number_of_nodes()}')\n",
    "print(f'Edges: {G.number_of_edges()}')\n",
    "sc = 'yes' if nx.is_strongly_connected(G) else 'no'\n",
    "print(f'Strongly connected: {sc}')\n",
    "print(f'Density: {nx.density(G):.5f}')"
   ]
  },
  {
   "cell_type": "markdown",
   "id": "fe5362a9-01e3-42d6-84cd-f7fcd32b20d0",
   "metadata": {},
   "source": [
    "### 2.2 Network editing"
   ]
  },
  {
   "cell_type": "code",
   "execution_count": 9,
   "id": "1328f3e7-e42c-4c19-bf9a-15aea36fc54d",
   "metadata": {},
   "outputs": [
    {
     "data": {
      "application/vnd.jupyter.widget-view+json": {
       "model_id": "8beef6796d6349d28faafc3d9644aad2",
       "version_major": 2,
       "version_minor": 0
      },
      "text/plain": [
       "Output(layout=Layout(border='1px solid blue'))"
      ]
     },
     "metadata": {},
     "output_type": "display_data"
    },
    {
     "data": {
      "application/vnd.jupyter.widget-view+json": {
       "model_id": "6f70084e11d2483c82c15c03d1196499",
       "version_major": 2,
       "version_minor": 0
      },
      "text/plain": [
       "HBox(children=(Dropdown(description='Selected node:', layout=Layout(width='max-content'), options=('#0 Plant a…"
      ]
     },
     "metadata": {},
     "output_type": "display_data"
    }
   ],
   "source": [
    "select_node_dropdown = widgets.Dropdown(options=sorted(list(G.nodes)), description='Selected node:', disabled=False, \n",
    "                                        layout=my_layout, style=my_style)\n",
    "delete_button = widgets.Button(description='Delete this node', disabled=False, button_style='danger',icon='trash')\n",
    "delete_log = widgets.Output(layout={'border': '1px solid blue'})\n",
    "def button_action(widget_name):\n",
    "    selected_node = select_node_dropdown.value\n",
    "    if selected_node:\n",
    "        G.remove_node(selected_node)\n",
    "        select_node_dropdown.options = sorted(list(G.nodes))\n",
    "        delete_log.append_display_data(f'Node \"{selected_node}\" was removed')\n",
    "delete_button.on_click(button_action)\n",
    "display(delete_log)\n",
    "HBox([select_node_dropdown, delete_button])"
   ]
  },
  {
   "cell_type": "markdown",
   "id": "48c8c77a-c5f8-42f3-9ddb-8759d506e679",
   "metadata": {},
   "source": [
    "# Part 3: network visualization"
   ]
  },
  {
   "cell_type": "code",
   "execution_count": 13,
   "id": "89d6f85f-9c34-4a13-a82d-8cb6f2711318",
   "metadata": {},
   "outputs": [
    {
     "data": {
      "application/vnd.jupyter.widget-view+json": {
       "model_id": "5c772c66ca404cc9b892a987e466f439",
       "version_major": 2,
       "version_minor": 0
      },
      "text/plain": [
       "VBox(children=(Dropdown(description='Colormap:', index=7, options=('viridis', 'plasma', 'inferno', 'magma', 'c…"
      ]
     },
     "metadata": {},
     "output_type": "display_data"
    },
    {
     "data": {
      "application/vnd.jupyter.widget-view+json": {
       "model_id": "d9edadd28f944534a7750eae8130ece4",
       "version_major": 2,
       "version_minor": 0
      },
      "text/plain": [
       "HTML(value='<html>\\n<head>\\n<meta name=\"viewport\" content=\"width=device-width, initial-scale=1\">\\n</head>\\n<bo…"
      ]
     },
     "metadata": {},
     "output_type": "display_data"
    },
    {
     "data": {
      "application/vnd.jupyter.widget-view+json": {
       "model_id": "e77f3240965f4edabac0ad3d6d0d183d",
       "version_major": 2,
       "version_minor": 0
      },
      "text/plain": [
       "Output(layout=Layout(border='0px'))"
      ]
     },
     "metadata": {},
     "output_type": "display_data"
    }
   ],
   "source": [
    "import textwrap\n",
    "import webbrowser\n",
    "from pyvis.network import Network\n",
    "from utils import conf\n",
    "from utils import functions\n",
    "from utils.ui_functions import make_download_button\n",
    "import copy\n",
    "\n",
    "out = widgets.Output(layout={'border': '0px'})\n",
    "@out.capture()\n",
    "def draw_network_inline(widget_name):\n",
    "    out.clear_output()\n",
    "    vis_G = prepare_visualization()\n",
    "    GG = copy.copy(vis_G)\n",
    "    GG.conf = False\n",
    "    GG.set_options(conf.hierarchical_food_web_visual_settings_inline)\n",
    "    display(HTML(GG.generate_html()))\n",
    "    # display(GG.show(f'{G.name}.html'))\n",
    "\n",
    "def draw_network_new_tab(widget_name):\n",
    "    vis_G = prepare_visualization()\n",
    "    GG = copy.copy(vis_G)\n",
    "    GG.conf = True\n",
    "    GG.set_options(conf.hierarchical_food_web_visual_settings_standalone)\n",
    "    web_page = f'{G.name}.html'\n",
    "    GG.write_html(web_page)\n",
    "    webbrowser.open(web_page)\n",
    "\n",
    "color_select = widgets.Dropdown(options=['viridis', 'plasma', 'inferno', 'magma', 'cividis', 'bone', 'pink',\n",
    "                                         'spring', 'summer', 'autumn', 'winter', 'cool', 'Wistia', 'hot', 'afmhot', \n",
    "                                         'gist_heat', 'copper'],\n",
    "                                value='spring',           \n",
    "                                description='Colormap:',\n",
    "                                disabled=False)\n",
    "shape_select = widgets.Dropdown(options=['ellipse', 'circle', 'database', 'box', 'text', 'diamond', 'dot', 'star', \n",
    "                                         'triangle', 'triangleDown', 'hexagon', 'square'],\n",
    "                                value='box',           \n",
    "                                description='Node shape:',\n",
    "                                disabled=False)\n",
    "label_width_slider  = widgets.IntSlider(value=20, min=6, max=40, step=2, description='Label width:', disabled=False,\n",
    "                                        continuous_update=False, orientation='horizontal', readout=True, readout_format='d')\n",
    "draw_inline_button = widgets.Button(description='Draw inline', disabled=False, button_style='primary')\n",
    "draw_outside_button = widgets.Button(description='Open in new tab', disabled=False, button_style='primary')\n",
    "draw_outside_button.style.button_color = 'green'\n",
    "draw_inline_button.on_click(draw_network_inline)\n",
    "draw_outside_button.on_click(draw_network_new_tab)\n",
    "\n",
    "def prepare_visualization():\n",
    "    colors = functions.get_colors(len(set(trophic_levels)), colormap=color_select.value)\n",
    "    vis_G = Network('800px', '1200px', notebook=False)\n",
    "    # add nodes\n",
    "    for node in G.nodes():\n",
    "        vis_G.add_node(node, \n",
    "                       label='\\n'.join(textwrap.wrap(node, label_width_slider.value, break_long_words=True)), \n",
    "                       level=max(trophic_levels) - trophic_levels_dict[node], \n",
    "                       shape=shape_select.value,\n",
    "                       color=colors[trophic_levels_dict[node]])\n",
    "    # and edges\n",
    "    for source, target in list(G.edges()):\n",
    "        vis_G.add_edge(source, target)\n",
    "    return vis_G  \n",
    "\n",
    "\n",
    "display(VBox([color_select, shape_select, label_width_slider, draw_inline_button, draw_outside_button]))\n",
    "display(make_download_button(G.name))\n",
    "display(out)"
   ]
  }
 ],
 "metadata": {
  "kernelspec": {
   "display_name": "Python 3 (ipykernel)",
   "language": "python",
   "name": "python3"
  },
  "language_info": {
   "codemirror_mode": {
    "name": "ipython",
    "version": 3
   },
   "file_extension": ".py",
   "mimetype": "text/x-python",
   "name": "python",
   "nbconvert_exporter": "python",
   "pygments_lexer": "ipython3",
   "version": "3.8.0"
  }
 },
 "nbformat": 4,
 "nbformat_minor": 5
}
