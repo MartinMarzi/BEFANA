{
 "cells": [
  {
   "cell_type": "code",
   "execution_count": 4,
   "id": "53d5f3e0-7469-4f78-8cbc-02aa2919b3ee",
   "metadata": {},
   "outputs": [],
   "source": [
    "import pandas as pd\n",
    "import networkx as nx\n",
    "import matplotlib.pyplot as plt\n",
    "import numpy as np\n",
    "from pyvis.network import Network as net"
   ]
  },
  {
   "cell_type": "code",
   "execution_count": 5,
   "id": "35110735-e489-49aa-8b3d-53d0840616bd",
   "metadata": {},
   "outputs": [],
   "source": [
    "g = nx.read_gpickle(\"objects/graph-A_3_0\")"
   ]
  },
  {
   "cell_type": "code",
   "execution_count": 6,
   "id": "ae9ba4dd-b219-48b6-8a39-d62234492ba1",
   "metadata": {},
   "outputs": [
    {
     "name": "stdout",
     "output_type": "stream",
     "text": [
      "DiGraph named 'Graph from soil food web adjacency matrix' with 24 nodes and 94 edges\n"
     ]
    }
   ],
   "source": [
    "print(nx.info(g))"
   ]
  },
  {
   "cell_type": "code",
   "execution_count": 7,
   "id": "00e86f6b-a1e4-4bdf-b6cb-064ff2c7fbf3",
   "metadata": {},
   "outputs": [],
   "source": [
    "NxG = net('1300px', '1300px')\n",
    "# populates the nodes and edges data structures\n",
    "NxG.from_nx(g)"
   ]
  },
  {
   "cell_type": "code",
   "execution_count": 15,
   "id": "4e908a89-99fb-438e-be5c-bd3d65d19ceb",
   "metadata": {},
   "outputs": [],
   "source": [
    "# Import trophic level as node attribute\n",
    "trophic_levels = pd.read_csv(\"data/trophic_levels_1_0.csv\", index_col=0, header=None, delimiter=\";\", names=[\"trophic_level\"])\n",
    "trophic_levels = trophic_levels.squeeze()\n",
    "\n",
    "# Create dict from trophic level Series\n",
    "troph_lev_dict = trophic_levels.to_dict()"
   ]
  },
  {
   "cell_type": "code",
   "execution_count": 16,
   "id": "05e97a3d-bddd-404f-8430-674919dca7df",
   "metadata": {},
   "outputs": [],
   "source": [
    "tlevel = list(troph_lev_dict.values())\n",
    "# Change to fix palette and add manage problem if high number of torphic level (cyclical palette)!\n",
    "colours = [\"#40E0D0\", \"#DFFF00\", \"#FFBF00\", \"#DE3163\"]\n",
    "tlevel2color = {lev: colours[lev] for lev in tlevel}\n",
    "\n",
    "def chunkstring(string, length):\n",
    "    return (string[0+i:length+i] for i in range(0, len(string), length))\n",
    "\n",
    "# Create a PyVis graph G\n",
    "G = net('800px', '1200px')\n",
    "# nodes = list(g.nodes())\n",
    "for node in g.nodes():\n",
    "    G.add_node(node, \n",
    "               label='\\n'.join(chunkstring(node,15)), \n",
    "               level=max(trophic_levels) - troph_lev_dict[node], \n",
    "               shape='box',\n",
    "               color=tlevel2color[troph_lev_dict[node]])\n",
    "    \n",
    "# Add edges to PyVis graph\n",
    "for source, target in list(g.edges()):\n",
    "    G.add_edge(source, target)\n",
    "    \n",
    "# Edges take on the color of the node they are coming from.\n",
    "G.inherit_edge_colors(status=True)"
   ]
  },
  {
   "cell_type": "code",
   "execution_count": 13,
   "id": "789e091b-2a27-4225-9010-e41290945212",
   "metadata": {},
   "outputs": [],
   "source": [
    "options= \"\"\"\n",
    "var options = {\n",
    "  \"edges\": {\n",
    "    \"arrows\": {\n",
    "      \"middle\": {\n",
    "        \"enabled\": true,\n",
    "        \"scaleFactor\": 0.85\n",
    "      }\n",
    "    },\n",
    "    \"color\": {\n",
    "      \"inherit\": true\n",
    "    },\n",
    "    \"smooth\": false\n",
    "  },\n",
    "  \"layout\": {\n",
    "    \"hierarchical\": {\n",
    "      \"enabled\": true,\n",
    "      \"nodeSpacing\": 200\n",
    "    }\n",
    "  },\n",
    "  \"interaction\": {\n",
    "    \"hover\": true,\n",
    "    \"navigationButtons\": true,\n",
    "    \"multiselect\": true\n",
    "  },\n",
    "  \"manipulation\": {\n",
    "    \"enabled\": true,\n",
    "    \"initiallyActive\": true\n",
    "  },\n",
    "  \"physics\": {\n",
    "    \"enabled\": true,\n",
    "    \"hierarchicalRepulsion\": {\n",
    "      \"centralGravity\": 0,\n",
    "      \"nodeDistance\": 190\n",
    "    },\n",
    "    \"minVelocity\": 0.75,\n",
    "    \"solver\": \"hierarchicalRepulsion\"\n",
    "  },\n",
    "  \"configure\": {\n",
    "    \"enabled\": true\n",
    "  }\n",
    "}\n",
    "\"\"\"\n",
    "# G.write_html('SFW_2.html')\n",
    "G.conf = True\n",
    "G.set_options(options)\n",
    "# G.show_buttons(filter_=True)  # if we enable this after setting options there is a bug so we use conf=True and JS settings\n",
    "G.write_html('SFW-1_0.html')"
   ]
  },
  {
   "cell_type": "code",
   "execution_count": null,
   "id": "24c4197c-bb3d-4fc8-84fc-2bbfba5e0e5a",
   "metadata": {},
   "outputs": [],
   "source": []
  }
 ],
 "metadata": {
  "kernelspec": {
   "display_name": "Python 3 (ipykernel)",
   "language": "python",
   "name": "python3"
  },
  "language_info": {
   "codemirror_mode": {
    "name": "ipython",
    "version": 3
   },
   "file_extension": ".py",
   "mimetype": "text/x-python",
   "name": "python",
   "nbconvert_exporter": "python",
   "pygments_lexer": "ipython3",
   "version": "3.8.0"
  }
 },
 "nbformat": 4,
 "nbformat_minor": 5
}
