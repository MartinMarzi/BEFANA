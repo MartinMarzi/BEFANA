{
 "cells": [
  {
   "cell_type": "markdown",
   "id": "778bbcc3-32a6-4daf-8539-78ab1e79929a",
   "metadata": {
    "tags": []
   },
   "source": [
    "## Part 5: Modeling with experimental data\n",
    "\n",
    "### 5.1 Load experimental data"
   ]
  },
  {
   "cell_type": "code",
   "execution_count": 1,
   "id": "433b1651-8dd2-4e36-a113-6a8e6634be6b",
   "metadata": {},
   "outputs": [],
   "source": [
    "import pandas as pd\n",
    "import networkx as nx\n",
    "import seaborn as sns\n",
    "import matplotlib.pyplot as plt"
   ]
  },
  {
   "cell_type": "code",
   "execution_count": 2,
   "id": "3fe832d5-7a37-4826-8c99-35642f07fad9",
   "metadata": {},
   "outputs": [],
   "source": [
    "# sfw_matrix = pd.read_pickle('results/sfw_matrix.pickle')\n",
    "trophic_levels = pd.read_pickle('results/trophic_levels.pickle')\n",
    "G = nx.read_gpickle('results/G.pickle')"
   ]
  },
  {
   "cell_type": "code",
   "execution_count": 3,
   "id": "257cc55e-c0fe-4f2a-803e-5e469c7d5019",
   "metadata": {},
   "outputs": [],
   "source": [
    "# To-do: button to import experimental data"
   ]
  },
  {
   "cell_type": "code",
   "execution_count": 4,
   "id": "350e7b1c-391c-48c5-9284-cda02eb61e68",
   "metadata": {},
   "outputs": [],
   "source": [
    "# ***Developer code***\n",
    "df_field = pd.read_csv(\"data/RecastingFieldExperiment.txt\", sep=\"\\t\")\n",
    "#df_field"
   ]
  },
  {
   "cell_type": "markdown",
   "id": "5eb708c8-0497-4c47-808d-63c5a8a335ad",
   "metadata": {},
   "source": [
    "### 5.2 Preprocessing experiemtnal data"
   ]
  },
  {
   "cell_type": "markdown",
   "id": "3f27af37-6790-46e3-8f56-696b9a59f488",
   "metadata": {},
   "source": [
    "To-Do: Explain that these sections are specific to the case data"
   ]
  },
  {
   "cell_type": "code",
   "execution_count": 5,
   "id": "dbb5bcf5-f01f-4dc1-9ee9-c30310d9e29b",
   "metadata": {},
   "outputs": [
    {
     "name": "stdout",
     "output_type": "stream",
     "text": [
      "Number of OTUs in plot A: 96\n",
      "Number of trophic groups in plot A: 23\n"
     ]
    }
   ],
   "source": [
    "# Create df for Plot A # What if user has no plots?\n",
    "df_field_a = df_field[df_field[\"Plot_ID\"] == \"A\"].copy()\n",
    "# Sort by OTU\n",
    "df_field_a.sort_values(\"OTU\", inplace=True)\n",
    "\n",
    "# Add new column with removed log  \n",
    "df_field_a[\"Biomass\"] = 10**(df_field_a[\"Log10(Biomass)\"])\n",
    "df_field_a[\"Mass\"] = 10**(df_field_a[\"Log10(Mass)\"])\n",
    "df_field_a[\"Abundance\"] = 10**(df_field_a[\"Log10(Abundance)\"])\n",
    "\n",
    "# Quantify organisms\n",
    "OTUs = df_field_a.OTU.unique()\n",
    "print(f\"Number of OTUs in plot A: {len(OTUs)}\") #How should we name OTUs (organisms)? Or rather \n",
    "trophic_groups = df_field_a.Trophic_ID.unique()\n",
    "print(f\"Number of trophic groups in plot A: {len(trophic_groups)}\")\n",
    "\n",
    "# Create dictionary for number of times an organism appears (nr. of replicates)\n",
    "organism_count = df_field_a.OTU.value_counts()\n",
    "trophic_group_count = df_field_a.Trophic_ID.value_counts()\n",
    "\n",
    "#df_field_a"
   ]
  },
  {
   "cell_type": "code",
   "execution_count": 6,
   "id": "2a283cad-479c-4dee-8b20-c22bfec7a88e",
   "metadata": {},
   "outputs": [],
   "source": [
    "# To-do: piechart"
   ]
  },
  {
   "cell_type": "code",
   "execution_count": 7,
   "id": "b4f4a792-5915-4c84-86cc-ff5c4322dfc6",
   "metadata": {},
   "outputs": [
    {
     "data": {
      "image/png": "[encoded data removed]",
      "text/plain": [
       "<Figure size 700x600 with 1 Axes>"
      ]
     },
     "metadata": {
      "needs_background": "light"
     },
     "output_type": "display_data"
    }
   ],
   "source": [
    "# Should we plot distribution of trophic groups?\n",
    "fig, plot = plt.subplots(figsize = (7,6), dpi = 100)\n",
    "plot = sns.barplot(y=list(trophic_group_count.index), x=trophic_group_count)\n",
    "plot.set_title('Distribution of trophic groups in plot A', fontsize = 12);"
   ]
  },
  {
   "cell_type": "markdown",
   "id": "f0c31ad4-8656-4ed7-b6c8-9a68b4fbdeec",
   "metadata": {},
   "source": [
    "### 5.3 Calculate the aggregated biomas, mass and abundance per trophic group [can be part of 5.2?]"
   ]
  },
  {
   "cell_type": "code",
   "execution_count": 8,
   "id": "4a16c170-0596-4aa2-a6ad-64f461f12973",
   "metadata": {},
   "outputs": [],
   "source": [
    "# To-do: needs to be done in one cell"
   ]
  },
  {
   "cell_type": "code",
   "execution_count": 9,
   "id": "70b7f217-cd4f-45fd-98d5-71b7238cf89f",
   "metadata": {},
   "outputs": [],
   "source": [
    "# Calculate the aggregated biomas per Trophic_ID\n",
    "# Create dictionary mapping OTUs to Trophic_IDs\n",
    "OTU2trophicID = pd.Series(df_field_a.Trophic_ID.values, df_field_a.OTU.values).to_dict()\n",
    "\n",
    "# Calcualte avg biomas by OTU groups\n",
    "df_group_A_bm = df_field_a.groupby([\"OTU\"], as_index=False).Biomass.mean()\n",
    "df_group_A_bm.Biomass = df_group_A_bm.Biomass.round(2)\n",
    "\n",
    "# Add Trophic_ID to df_group_a\n",
    "for idx, otu in df_group_A_bm[\"OTU\"].iteritems():\n",
    "    df_group_A_bm.loc[idx, \"Trophic_ID\"] = OTU2trophicID[otu]\n",
    "\n",
    "# Calcualte sum of biomas by trophic groups\n",
    "df_group_A_bm = df_group_A_bm.groupby(\"Trophic_ID\", as_index=False).Biomass.sum()\n",
    "\n",
    "# Create dictionary for avg biomass feature\n",
    "avg_biomass_A = pd.Series(df_group_A_bm.Biomass.values, df_group_A_bm.Trophic_ID.values).to_dict()\n",
    "\n",
    "# Unify node names and Trophic_ID names in Biomass dict\n",
    "for key_attr in list(avg_biomass_A):\n",
    "    for key_node in list(G.nodes):\n",
    "        if key_attr in key_node:\n",
    "            avg_biomass_A[key_node] = avg_biomass_A.pop(key_attr)\n",
    "\n",
    "# Round values\n",
    "avg_biomass_A = {key : round(avg_biomass_A[key], 2) for key in avg_biomass_A}\n",
    "\n",
    "# If no \"92 Predatory mite (parasitizing mites and nematodes)\" add them manually #Need to generalise?\n",
    "avg_biomass_A[\"92 Predatory mite (parasitizing mites and nematodes)\"] = 0\n",
    "# dict(sorted(avg_biomass_A.items(), key=lambda item: item[1]))"
   ]
  },
  {
   "cell_type": "code",
   "execution_count": 10,
   "id": "bac8c47d-9542-4cce-8099-df24ed091b57",
   "metadata": {},
   "outputs": [],
   "source": [
    "# Should there be a comment: \"'92 Predatory mite (parasitizing mites and nematodes)' was not detected in Plot A and C and has no biomass feature.\""
   ]
  },
  {
   "cell_type": "code",
   "execution_count": 11,
   "id": "53661b64-be4d-4781-9ff8-dc95a46cdb1e",
   "metadata": {},
   "outputs": [],
   "source": [
    "# Calculate the aggregated mass per Trophic_ID\n",
    "\n",
    "# Calcualte avg mass by OTU group\n",
    "df_group_A_m = df_field_a.groupby([\"OTU\"], as_index=False).Mass.mean()\n",
    "# df_group_A_m.Mass = df_group_A_m.Mass.round(4)\n",
    "\n",
    "# Add Trophic_ID to df_group_a\n",
    "for idx, otu in df_group_A_m[\"OTU\"].iteritems():\n",
    "    df_group_A_m.loc[idx, \"Trophic_ID\"] = OTU2trophicID[otu]\n",
    "\n",
    "df_group_A_m = df_group_A_m.groupby(\"Trophic_ID\", as_index=False).Mass.sum()\n",
    "df_group_A_m\n",
    "\n",
    "# pd.set_option(\"max_rows\", None)\n",
    "\n",
    "# Create dictionary for avg mass feature\n",
    "avg_mass_A = pd.Series(df_group_A_m.Mass.values, df_group_A_m.Trophic_ID.values).to_dict()\n",
    "\n",
    "#Change key \"#0\" to 00\n",
    "#avg_mass_A[\"00\"] = avg_mass_A.pop(\"#0\")\n",
    "\n",
    "# Unify node names and Trophic_ID names in Mass dict\n",
    "for key_attr in list(avg_mass_A):\n",
    "    for key_node in list(G.nodes):\n",
    "        if key_attr in key_node:\n",
    "            avg_mass_A[key_node] = avg_mass_A.pop(key_attr)\n",
    "\n",
    "# Round values, many values become 0?\n",
    "# avg_mass_A = {key : round(avg_mass_A[key], 2) for key in avg_mass_A}\n",
    "            \n",
    "# If no \"92 Predatory mite (parasitizing mites and nematodes)\" add them manually\n",
    "avg_mass_A[\"92 Predatory mite (parasitizing mites and nematodes)\"] = 0\n",
    "# dict(sorted(avg_mass_A.items(), key=lambda item: item[1]))"
   ]
  },
  {
   "cell_type": "code",
   "execution_count": 12,
   "id": "b4df228e-507c-4d33-b8e9-ba1045c5787a",
   "metadata": {},
   "outputs": [],
   "source": [
    "# Calculate the aggregated abundance per Trophic_ID\n",
    "\n",
    "# Calcualte avg abundance by OTU group\n",
    "df_group_A_ab = df_field_a.groupby([\"OTU\"], as_index=False).Abundance.mean()\n",
    "# df_group_A_m.Abundance = df_group_A_m.Abundance.round(4)\n",
    "\n",
    "# Add Trophic_ID to df_group_a\n",
    "for idx, otu in df_group_A_ab[\"OTU\"].iteritems():\n",
    "    df_group_A_ab.loc[idx, \"Trophic_ID\"] = OTU2trophicID[otu]\n",
    "\n",
    "df_group_A_ab = df_group_A_ab.groupby(\"Trophic_ID\", as_index=False).Abundance.sum()\n",
    "df_group_A_ab\n",
    "\n",
    "# pd.set_option(\"max_rows\", None)\n",
    "\n",
    "# Create dictionary for avg mass feature\n",
    "avg_abund_A = pd.Series(df_group_A_ab.Abundance.values, df_group_A_ab.Trophic_ID.values).to_dict()\n",
    "\n",
    "#Change key \"#0\" to 00\n",
    "#avg_mass_A[\"00\"] = avg_mass_A.pop(\"#0\")\n",
    "\n",
    "# Unify node names and Trophic_ID names in Abundance dict\n",
    "for key_attr in list(avg_abund_A):\n",
    "    for key_node in list(G.nodes):\n",
    "        if key_attr in key_node:\n",
    "            avg_abund_A[key_node] = avg_abund_A.pop(key_attr)\n",
    "\n",
    "# Round values\n",
    "avg_abund_A = {key : round(avg_abund_A[key], 2) for key in avg_abund_A}            \n",
    "\n",
    "# If no \"92 Predatory mite (parasitizing mites and nematodes)\" add them manually [CHECK for other plots!]\n",
    "avg_abund_A[\"92 Predatory mite (parasitizing mites and nematodes)\"] = 0\n",
    "# dict(sorted(avg_abund_A.items(), key=lambda item: item[1]))"
   ]
  },
  {
   "cell_type": "markdown",
   "id": "f0291316-52e4-468e-917b-247bafdc9f1a",
   "metadata": {},
   "source": [
    "### 5.4 Adding trophic level, biomass, mass and abundance as attributes to the network"
   ]
  },
  {
   "cell_type": "code",
   "execution_count": 13,
   "id": "488bccde-cb04-4f23-979a-27e8f61d000e",
   "metadata": {},
   "outputs": [],
   "source": [
    "trophic_levels_dict = trophic_levels.to_dict()\n",
    "\n",
    "# Add trophic level as attribute\n",
    "nx.set_node_attributes(G, trophic_levels_dict, \"trophic_level\")\n",
    "# Add biomas as attribute\n",
    "nx.set_node_attributes(G, avg_biomass_A, \"Biomass\")\n",
    "# Add mass as attribute\n",
    "nx.set_node_attributes(G, avg_mass_A, \"Mass\")\n",
    "# Add abundance as attribute\n",
    "nx.set_node_attributes(G, avg_abund_A, \"Abundance\")\n",
    "# G.nodes(data=True)"
   ]
  },
  {
   "cell_type": "code",
   "execution_count": 14,
   "id": "190aaba5-6f44-4375-8fdb-d3c5b05fcd32",
   "metadata": {
    "tags": []
   },
   "outputs": [],
   "source": [
    "# To-Do: create a button to download final network with experimental data"
   ]
  },
  {
   "cell_type": "code",
   "execution_count": 15,
   "id": "d27d3639-f52e-4b34-b92d-548bdae87929",
   "metadata": {},
   "outputs": [],
   "source": [
    "# To-Do: visualisation of final network? Nodes reflecting size of attributes"
   ]
  },
  {
   "cell_type": "code",
   "execution_count": 16,
   "id": "8fd8e728-3cfb-49ea-b22a-8c3046dc31d4",
   "metadata": {},
   "outputs": [],
   "source": [
    "# ***Dev code***\n",
    "## Create a pickle of the graph\n",
    "#nx.write_gpickle(G, \"objects/graph-A_4_0\", protocol=5)"
   ]
  },
  {
   "cell_type": "markdown",
   "id": "54aac12f-6484-4fab-8ac1-5fcf32888fe8",
   "metadata": {},
   "source": [
    "### 5.5 Calculating total biomas (and abundance?) per trophic level "
   ]
  },
  {
   "cell_type": "code",
   "execution_count": 17,
   "id": "884545f2-4d9b-46e4-b952-ae458bd1b1c0",
   "metadata": {},
   "outputs": [],
   "source": [
    "# to-do: visualise with log and linear"
   ]
  },
  {
   "cell_type": "code",
   "execution_count": 18,
   "id": "7dfad598-de95-4f25-bcfc-a8a273724524",
   "metadata": {},
   "outputs": [
    {
     "name": "stdout",
     "output_type": "stream",
     "text": [
      "--- Total biomas per trophic level ---\n",
      "Trophic level0 biomass: 862053479.33\n",
      "Trophic level1 biomass: 23187728.31\n",
      "Trophic level2 biomass: 319919.35, \n",
      "Trophic level3 biomass: 79060.65\n",
      "Trophic level2&3: 398980.0\n"
     ]
    }
   ],
   "source": [
    "# Calculate biomass per trophic level\n",
    "biomass_tl0, biomass_tl1, biomass_tl2, biomass_tl3 = 0.0, 0.0, 0.0, 0.0\n",
    "\n",
    "for n in G.nodes():\n",
    "    if G.nodes[n][\"trophic_level\"] == 0:\n",
    "        biomass_tl0 += G.nodes[n][\"Biomass\"]\n",
    "    elif G.nodes[n][\"trophic_level\"] == 1:\n",
    "        biomass_tl1 += G.nodes[n][\"Biomass\"]\n",
    "    elif G.nodes[n][\"trophic_level\"] == 2:\n",
    "        biomass_tl2 += G.nodes[n][\"Biomass\"]\n",
    "    elif G.nodes[n][\"trophic_level\"] == 3:\n",
    "        biomass_tl3 += G.nodes[n][\"Biomass\"]\n",
    "  \n",
    "print(\"--- Total biomas per trophic level ---\")           \n",
    "print(f\"Trophic level0 biomass: {round(biomass_tl0, 2)}\\nTrophic level1 biomass: {round(biomass_tl1, 2)}\\nTrophic level2 biomass: {round(biomass_tl2, 2)}, \\nTrophic level3 biomass: {round(biomass_tl3, 2)}\")\n",
    "print(f\"Trophic level2&3: {round(biomass_tl2 + biomass_tl3, 2)}\")"
   ]
  },
  {
   "cell_type": "markdown",
   "id": "903c4842-8946-4130-ba10-1e7ddaaec921",
   "metadata": {},
   "source": [
    "### 5.6 Preparing abundance rankings per trophic level "
   ]
  },
  {
   "cell_type": "code",
   "execution_count": 19,
   "id": "8f7df6cf-7c9e-4ef4-b929-7c6d127b4e61",
   "metadata": {},
   "outputs": [],
   "source": [
    "# To-do: compress in one cell"
   ]
  },
  {
   "cell_type": "code",
   "execution_count": 20,
   "id": "5d990b38-3879-4adc-8e60-5bb2e17615c2",
   "metadata": {},
   "outputs": [
    {
     "ename": "NameError",
     "evalue": "name 'log_tl0_abund' is not defined",
     "output_type": "error",
     "traceback": [
      "\u001b[0;31m---------------------------------------------------------------------------\u001b[0m",
      "\u001b[0;31mNameError\u001b[0m                                 Traceback (most recent call last)",
      "\u001b[0;32m/tmp/ipykernel_29330/898376368.py\u001b[0m in \u001b[0;36m<module>\u001b[0;34m\u001b[0m\n\u001b[1;32m      7\u001b[0m \u001b[0;34m\u001b[0m\u001b[0m\n\u001b[1;32m      8\u001b[0m \u001b[0;31m# plot trophic level 0 abundance\u001b[0m\u001b[0;34m\u001b[0m\u001b[0;34m\u001b[0m\u001b[0;34m\u001b[0m\u001b[0m\n\u001b[0;32m----> 9\u001b[0;31m \u001b[0mlog_tl0_abund_df\u001b[0m \u001b[0;34m=\u001b[0m \u001b[0mpd\u001b[0m\u001b[0;34m.\u001b[0m\u001b[0mDataFrame\u001b[0m\u001b[0;34m(\u001b[0m\u001b[0mlog_tl0_abund\u001b[0m\u001b[0;34m,\u001b[0m \u001b[0mcolumns\u001b[0m\u001b[0;34m=\u001b[0m \u001b[0;34m[\u001b[0m\u001b[0;34m\"trophic_group\"\u001b[0m\u001b[0;34m,\u001b[0m \u001b[0;34m\"abundance\"\u001b[0m\u001b[0;34m]\u001b[0m\u001b[0;34m)\u001b[0m\u001b[0;34m\u001b[0m\u001b[0;34m\u001b[0m\u001b[0m\n\u001b[0m\u001b[1;32m     10\u001b[0m \u001b[0mfig\u001b[0m\u001b[0;34m,\u001b[0m \u001b[0mplot\u001b[0m \u001b[0;34m=\u001b[0m \u001b[0mplt\u001b[0m\u001b[0;34m.\u001b[0m\u001b[0msubplots\u001b[0m\u001b[0;34m(\u001b[0m\u001b[0mfigsize\u001b[0m \u001b[0;34m=\u001b[0m \u001b[0;34m(\u001b[0m\u001b[0;36m4\u001b[0m\u001b[0;34m,\u001b[0m\u001b[0;36m1\u001b[0m\u001b[0;34m)\u001b[0m\u001b[0;34m,\u001b[0m \u001b[0mdpi\u001b[0m \u001b[0;34m=\u001b[0m \u001b[0;36m100\u001b[0m\u001b[0;34m)\u001b[0m\u001b[0;34m\u001b[0m\u001b[0;34m\u001b[0m\u001b[0m\n\u001b[1;32m     11\u001b[0m \u001b[0msns\u001b[0m\u001b[0;34m.\u001b[0m\u001b[0mbarplot\u001b[0m\u001b[0;34m(\u001b[0m\u001b[0my\u001b[0m\u001b[0;34m=\u001b[0m\u001b[0;34m\"trophic_group\"\u001b[0m\u001b[0;34m,\u001b[0m \u001b[0mx\u001b[0m\u001b[0;34m=\u001b[0m\u001b[0;34m\"abundance\"\u001b[0m\u001b[0;34m,\u001b[0m \u001b[0mdata\u001b[0m\u001b[0;34m=\u001b[0m\u001b[0mlog_tl0_abund_df\u001b[0m\u001b[0;34m)\u001b[0m\u001b[0;34m\u001b[0m\u001b[0;34m\u001b[0m\u001b[0m\n",
      "\u001b[0;31mNameError\u001b[0m: name 'log_tl0_abund' is not defined"
     ]
    }
   ],
   "source": [
    "import math\n",
    "from operator import itemgetter\n",
    "\n",
    "# trophic level 0\n",
    "tl0_abund = {x: round(math.log10(y[\"Abundance\"]), 2) for x,y in G.nodes(data=True) if y[\"trophic_level\"]==0}\n",
    "tl0_abund = sorted(tl0_abund.items(), key=itemgetter(1), reverse=True)\n",
    "\n",
    "# plot trophic level 0 abundance\n",
    "log_tl0_abund_df = pd.DataFrame(log_tl0_abund, columns= [\"trophic_group\", \"abundance\"])\n",
    "fig, plot = plt.subplots(figsize = (4,1), dpi = 100)\n",
    "sns.barplot(y=\"trophic_group\", x=\"abundance\", data=log_tl0_abund_df)\n",
    "plot.set_title('Trophic level 0 abundance ranking (log10 scale)', fontsize = 10);"
   ]
  },
  {
   "cell_type": "code",
   "execution_count": null,
   "id": "e0c24f4b-982f-4c59-841f-e675466d4fe1",
   "metadata": {},
   "outputs": [],
   "source": []
  },
  {
   "cell_type": "code",
   "execution_count": null,
   "id": "87524573-d93b-4b07-b577-b2ba60a75a42",
   "metadata": {},
   "outputs": [],
   "source": []
  },
  {
   "cell_type": "code",
   "execution_count": null,
   "id": "402d6c8c-1c1f-4a65-be9c-93857af96b53",
   "metadata": {},
   "outputs": [],
   "source": [
    "# Rank trophic groups by abundance per trophic level\n",
    "# trophic level 1\n",
    "tl1_abund = {x: round(math.log10(y[\"Abundance\"]), 2) for x,y in G.nodes(data=True) if y[\"trophic_level\"]==1}\n",
    "log_tl1_abund = sorted(tl1_abund.items(), key=itemgetter(1), reverse=True) \n",
    "\n",
    "# plot trophic level 1 abundance\n",
    "log_tl1_abund_df = pd.DataFrame(log_tl1_abund, columns= [\"trophic_group\", \"abundance\"])\n",
    "fig, plot = plt.subplots(figsize = (4,4), dpi = 100)\n",
    "sns.barplot(y=\"trophic_group\", x=\"abundance\", data=log_tl1_abund_df)\n",
    "plot.set_title('Trophic level 1 abundance ranking (log10 scale)', fontsize = 10);"
   ]
  },
  {
   "cell_type": "code",
   "execution_count": null,
   "id": "0d101744-fe6e-4616-a57e-fb0b6155d55a",
   "metadata": {},
   "outputs": [],
   "source": [
    "# trophic level 2\n",
    "tl2_abund = {x: round(math.log10(y[\"Abundance\"]), 2) for x,y in G.nodes(data=True) if y[\"trophic_level\"]==2}\n",
    "log_tl2_abund = sorted(tl2_abund.items(), key=itemgetter(1), reverse=True) \n",
    "\n",
    "# plot trophic level 2 abundance\n",
    "log_tl2_abund_df = pd.DataFrame(log_tl2_abund, columns= [\"trophic_group\", \"abundance\"])\n",
    "fig, plot = plt.subplots(figsize = (4,1), dpi = 100)\n",
    "sns.barplot(y=\"trophic_group\", x=\"abundance\", data=log_tl2_abund_df)\n",
    "plot.set_title('Trophic level 2 abundance ranking (log10 scale)', fontsize = 10);"
   ]
  },
  {
   "cell_type": "code",
   "execution_count": null,
   "id": "1d84f3ef-2270-43bb-8de1-abb2e5567b53",
   "metadata": {},
   "outputs": [],
   "source": [
    "# trophic level 3\n",
    "tl3_abund = {x: (y[\"Abundance\"]) for x,y in G.nodes(data=True) if y[\"trophic_level\"]==3 }\n",
    "print(f\"Ranking of abundances at trophic level 3:\")\n",
    "tl3_abund = sorted(tl3_abund.items(), key=itemgetter(1), reverse=True) \n",
    "\n",
    "# custom log function accepting 0 as value\n",
    "def cust_log(tuple_list, base):\n",
    "    l = []\n",
    "    for x, y in tuple_list:\n",
    "        if y != 0:\n",
    "            l.append((x, math.log(y, base)))\n",
    "        else:\n",
    "            l.append((x, 0.0))  \n",
    "    return l\n",
    "\n",
    "log_tl3_abund = cust_log(tl3_abund, 10)\n",
    "\n",
    "# plot trophic level 3 abundance\n",
    "log_tl3_abund_df = pd.DataFrame(log_tl3_abund, columns= [\"trophic_group\", \"abundance\"])\n",
    "fig, plot = plt.subplots(figsize = (4,2), dpi = 100)\n",
    "sns.barplot(y=\"trophic_group\", x=\"abundance\", data=log_tl3_abund_df)\n",
    "plot.set_title('Trophic level 3 abundance ranking (log10 scale)', fontsize = 10);"
   ]
  },
  {
   "cell_type": "code",
   "execution_count": null,
   "id": "81060eda-553b-4e1e-a5e0-61203d90c2c4",
   "metadata": {},
   "outputs": [],
   "source": [
    "# trophic level 2 and 3\n",
    "tl2and3_abund = {x: (y[\"Abundance\"]) for x,y in G.nodes(data=True) if y[\"trophic_level\"]== 2 or y[\"trophic_level\"]==3}\n",
    "print(f\"Ranking of abundances at trophic level 2 and 3:\")\n",
    "tl2and3_abund = sorted(tl2and3_abund.items(), key=itemgetter(1), reverse=True)\n",
    "log_tl2and3_abund = cust_log(tl2and3_abund, 10)\n",
    "\n",
    "# plot trophic level 2 and 3 abundance\n",
    "log_tl2and3_abund_df = pd.DataFrame(log_tl2and3_abund, columns= [\"trophic_group\", \"abundance\"])\n",
    "fig, plot = plt.subplots(figsize = (4,3), dpi = 100)\n",
    "sns.barplot(y=\"trophic_group\", x=\"abundance\", data=log_tl2and3_abund_df)\n",
    "plot.set_title('Trophic level 2 and 3 abundance ranking (log10 scale)', fontsize = 10);"
   ]
  }
 ],
 "metadata": {
  "kernelspec": {
   "display_name": "Python 3 (ipykernel)",
   "language": "python",
   "name": "python3"
  },
  "language_info": {
   "codemirror_mode": {
    "name": "ipython",
    "version": 3
   },
   "file_extension": ".py",
   "mimetype": "text/x-python",
   "name": "python",
   "nbconvert_exporter": "python",
   "pygments_lexer": "ipython3",
   "version": "3.8.10"
  }
 },
 "nbformat": 4,
 "nbformat_minor": 5
}
