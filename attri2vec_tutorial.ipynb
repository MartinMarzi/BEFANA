{
 "cells": [
  {
   "cell_type": "markdown",
   "id": "083782f7-d47a-43e2-b874-a2f06d48f1b7",
   "metadata": {},
   "source": [
    "Node representation learning with attri2vec tutorial"
   ]
  },
  {
   "cell_type": "code",
   "execution_count": 28,
   "id": "a4439630-9510-423a-b8f5-a5aa1b384f5a",
   "metadata": {},
   "outputs": [],
   "source": [
    "import networkx as nx\n",
    "import pandas as pd\n",
    "import numpy as np\n",
    "import os\n",
    "import random\n",
    "\n",
    "import stellargraph as sg\n",
    "from stellargraph.data import UnsupervisedSampler\n",
    "from stellargraph.mapper import Attri2VecLinkGenerator, Attri2VecNodeGenerator\n",
    "from stellargraph.layer import Attri2Vec, link_classification\n",
    "\n",
    "from tensorflow import keras\n",
    "\n",
    "from pandas.core.indexes.base import Index\n",
    "\n",
    "import matplotlib.pyplot as plt\n",
    "from sklearn.manifold import TSNE\n",
    "from sklearn.decomposition import PCA\n",
    "\n",
    "from sklearn.model_selection import train_test_split\n",
    "from sklearn.linear_model import LogisticRegressionCV\n",
    "from sklearn.metrics import accuracy_score\n",
    "\n",
    "from stellargraph import datasets\n",
    "from IPython.display import display, HTML"
   ]
  },
  {
   "cell_type": "code",
   "execution_count": 29,
   "id": "9cbe7c41-5bc9-4935-bc70-93f827de7e65",
   "metadata": {},
   "outputs": [
    {
     "data": {
      "text/html": [
       "The CiteSeer dataset consists of 3312 scientific publications classified into one of six classes. The citation network consists of 4732 links, although 17 of these have a source or target publication that isn't in the dataset and only 4715 are included in the graph. Each publication in the dataset is described by a 0/1-valued word vector indicating the absence/presence of the corresponding word from the dictionary. The dictionary consists of 3703 unique words."
      ],
      "text/plain": [
       "<IPython.core.display.HTML object>"
      ]
     },
     "metadata": {},
     "output_type": "display_data"
    }
   ],
   "source": [
    "dataset = datasets.CiteSeer()\n",
    "display(HTML(dataset.description))\n",
    "G, subjects = dataset.load(largest_connected_component_only=True)"
   ]
  },
  {
   "cell_type": "code",
   "execution_count": 30,
   "id": "112a0917-f62d-4209-ad28-2031f2bbfce5",
   "metadata": {},
   "outputs": [],
   "source": [
    "import random\n",
    "k = 24\n",
    "# sampled_nodes = random.sample(list(G.nodes()), k)\n",
    "SG = G.subgraph(['364207', '100157', '38848', 'bradshaw97introduction', 'bylund99coordinating', 'dix01metaagent',\n",
    "                            'gray99finding', 'labrou01standardizing', 'labrou99agent', 'nodine98overview', 'nodine99active',\n",
    "                            'wagner97artificial', '455651', '100598', 'marquez00machine', 'punyakanok01use', '104129', '106003',\n",
    "                            'singhal99document', 'amer-yahia00boundingschemas', '106339', 'arlein99making', 'cluet99using', \n",
    "                            'shasha02algorithmics', '184462', '108321', '73962'])"
   ]
  },
  {
   "cell_type": "code",
   "execution_count": 31,
   "id": "4dcb5a61-294a-404d-8920-9b75be05546b",
   "metadata": {},
   "outputs": [],
   "source": [
    "G = SG"
   ]
  },
  {
   "cell_type": "code",
   "execution_count": 32,
   "id": "fc797c2b-8760-4be1-acc7-36a36df24ad6",
   "metadata": {
    "tags": []
   },
   "outputs": [
    {
     "name": "stdout",
     "output_type": "stream",
     "text": [
      "StellarGraph: Undirected multigraph\n",
      " Nodes: 27, Edges: 27\n",
      "\n",
      " Node types:\n",
      "  paper: [27]\n",
      "    Features: float32 vector, length 3703\n",
      "    Edge types: paper-cites->paper\n",
      "\n",
      " Edge types:\n",
      "    paper-cites->paper: [27]\n",
      "        Weights: all 1 (default)\n",
      "        Features: none\n"
     ]
    }
   ],
   "source": [
    "print(G.info())"
   ]
  },
  {
   "cell_type": "code",
   "execution_count": 33,
   "id": "6a746d07-a22a-4d4a-b9c1-48c5c0a54990",
   "metadata": {},
   "outputs": [],
   "source": [
    "nodes = list(G.nodes())\n",
    "number_of_walks = 4\n",
    "length = 5"
   ]
  },
  {
   "cell_type": "code",
   "execution_count": 34,
   "id": "5cbb40b2-ee5f-439b-b84e-194cd0c675cf",
   "metadata": {},
   "outputs": [],
   "source": [
    "unsupervised_samples = UnsupervisedSampler(\n",
    "    G, nodes=nodes, length=length, number_of_walks=number_of_walks\n",
    ")"
   ]
  },
  {
   "cell_type": "code",
   "execution_count": 35,
   "id": "24effa46-cd88-406a-b5f3-a2dee878ce5a",
   "metadata": {},
   "outputs": [],
   "source": [
    "batch_size = 4\n",
    "epochs = 4"
   ]
  },
  {
   "cell_type": "code",
   "execution_count": 36,
   "id": "f96b4fc4-5e5c-4f02-8e1b-2e1df8142f14",
   "metadata": {},
   "outputs": [],
   "source": [
    "generator = Attri2VecLinkGenerator(G, batch_size)\n",
    "train_gen = generator.flow(unsupervised_samples)"
   ]
  },
  {
   "cell_type": "code",
   "execution_count": 37,
   "id": "8ab88e5f-063c-4782-a606-aa2648e0876a",
   "metadata": {},
   "outputs": [],
   "source": [
    "layer_sizes = [5]\n",
    "attri2vec = Attri2Vec(\n",
    "    layer_sizes=layer_sizes, generator=generator, bias=False, normalize=None\n",
    ")"
   ]
  },
  {
   "cell_type": "code",
   "execution_count": 38,
   "id": "373bc0e8-75e4-4133-b255-b14fc01f1d10",
   "metadata": {},
   "outputs": [],
   "source": [
    "# Build the model and expose input and output sockets of attri2vec, for node pair inputs:\n",
    "x_inp, x_out = attri2vec.in_out_tensors()"
   ]
  },
  {
   "cell_type": "code",
   "execution_count": 39,
   "id": "19b825a4-2ee7-41e9-9fa4-902d210a7cef",
   "metadata": {},
   "outputs": [
    {
     "name": "stdout",
     "output_type": "stream",
     "text": [
      "link_classification: using 'ip' method to combine node embeddings into edge embeddings\n"
     ]
    }
   ],
   "source": [
    "prediction = link_classification(\n",
    "    output_dim=1, output_act=\"sigmoid\", edge_embedding_method=\"ip\"\n",
    ")(x_out)"
   ]
  },
  {
   "cell_type": "code",
   "execution_count": 40,
   "id": "0cc7c103-c779-4148-9898-f11b324a54ba",
   "metadata": {},
   "outputs": [
    {
     "name": "stderr",
     "output_type": "stream",
     "text": [
      "/Users/mmarzi/.pyenv/versions/3.8.0/envs/graphs/lib/python3.8/site-packages/keras/optimizer_v2/optimizer_v2.py:355: UserWarning: The `lr` argument is deprecated, use `learning_rate` instead.\n",
      "  warnings.warn(\n"
     ]
    }
   ],
   "source": [
    "model = keras.Model(inputs=x_inp, outputs=prediction)\n",
    "\n",
    "model.compile(\n",
    "    optimizer=keras.optimizers.Adam(lr=1e-3),\n",
    "    loss=keras.losses.binary_crossentropy,\n",
    "    metrics=[keras.metrics.binary_accuracy],\n",
    ")"
   ]
  },
  {
   "cell_type": "code",
   "execution_count": 41,
   "id": "eac1f0a4-c199-4a38-a2bd-4a9b2ec091c5",
   "metadata": {},
   "outputs": [
    {
     "name": "stdout",
     "output_type": "stream",
     "text": [
      "Epoch 1/4\n",
      "216/216 - 0s - loss: 0.6924 - binary_accuracy: 0.5243\n",
      "Epoch 2/4\n",
      "216/216 - 0s - loss: 0.6859 - binary_accuracy: 0.5637\n",
      "Epoch 3/4\n",
      "216/216 - 0s - loss: 0.6762 - binary_accuracy: 0.5845\n",
      "Epoch 4/4\n",
      "216/216 - 0s - loss: 0.6556 - binary_accuracy: 0.6759\n"
     ]
    }
   ],
   "source": [
    "history = model.fit(\n",
    "    train_gen,\n",
    "    epochs=epochs,\n",
    "    verbose=2,\n",
    "    use_multiprocessing=False,\n",
    "    workers=1,\n",
    "    shuffle=True,\n",
    ")"
   ]
  },
  {
   "cell_type": "code",
   "execution_count": 42,
   "id": "ad94ec49-0227-4080-b307-a560d2de6800",
   "metadata": {},
   "outputs": [],
   "source": [
    "x_inp_src = x_inp[0]\n",
    "x_out_src = x_out[0]\n",
    "embedding_model = keras.Model(inputs=x_inp_src, outputs=x_out_src)"
   ]
  },
  {
   "cell_type": "code",
   "execution_count": 43,
   "id": "df0d29f8-9366-461a-a8d7-b4e0ea82306d",
   "metadata": {},
   "outputs": [
    {
     "name": "stdout",
     "output_type": "stream",
     "text": [
      "7/7 [==============================] - 0s 718us/step\n"
     ]
    }
   ],
   "source": [
    "node_gen = Attri2VecNodeGenerator(G, batch_size).flow(list(G.nodes()))\n",
    "node_embeddings = embedding_model.predict(node_gen, workers=1, verbose=1)"
   ]
  },
  {
   "cell_type": "code",
   "execution_count": 68,
   "id": "99093eac-fa9f-4ac5-9c74-045229057388",
   "metadata": {},
   "outputs": [],
   "source": [
    "transform = PCA #TSNE  # \n",
    "\n",
    "trans = transform(n_components=2)\n",
    "node_embeddings_2d = trans.fit_transform(node_embeddings)"
   ]
  },
  {
   "cell_type": "code",
   "execution_count": 71,
   "id": "66587b86-94c9-4cbe-a023-194a30d2b3be",
   "metadata": {},
   "outputs": [
    {
     "data": {
      "text/plain": [
       "array([[-0.7720094 ,  0.08032539],\n",
       "       [-0.68374884, -0.1952469 ],\n",
       "       [-0.82418585,  0.13812214],\n",
       "       [-0.715395  , -0.21193498],\n",
       "       [-0.59300387, -0.28401697],\n",
       "       [-0.6409275 ,  0.10005263],\n",
       "       [-0.6105973 , -0.11733919],\n",
       "       [-0.6398432 , -0.14113382],\n",
       "       [-0.72544163, -0.08455043],\n",
       "       [-0.64663655, -0.32644626],\n",
       "       [-0.58641446, -0.23602884],\n",
       "       [-0.7628066 , -0.02945691],\n",
       "       [ 0.84461725,  0.42076892],\n",
       "       [ 0.86105824,  0.51094043],\n",
       "       [ 0.7877055 ,  0.4355781 ],\n",
       "       [ 0.8121965 ,  0.48337752],\n",
       "       [ 0.4064281 ,  0.02566892],\n",
       "       [ 0.20682105, -0.00316773],\n",
       "       [ 0.2369845 , -0.01696417],\n",
       "       [ 0.7383426 , -0.6535916 ],\n",
       "       [ 0.8054668 , -0.6424189 ],\n",
       "       [ 0.7497774 , -0.70078695],\n",
       "       [ 0.77151865, -0.6955104 ],\n",
       "       [ 0.7447565 , -0.6779075 ],\n",
       "       [ 0.05513987,  0.943663  ],\n",
       "       [ 0.09231991,  0.9548896 ],\n",
       "       [ 0.0878774 ,  0.92311543]], dtype=float32)"
      ]
     },
     "execution_count": 71,
     "metadata": {},
     "output_type": "execute_result"
    }
   ],
   "source": [
    "node_embeddings_2d"
   ]
  },
  {
   "cell_type": "code",
   "execution_count": 72,
   "id": "433ab1bc-d832-4b64-95ba-5e4bc100e1a3",
   "metadata": {},
   "outputs": [
    {
     "data": {
      "image/png": "[encoded data removed]",
      "text/plain": [
       "<Figure size 504x504 with 1 Axes>"
      ]
     },
     "metadata": {
      "needs_background": "light"
     },
     "output_type": "display_data"
    }
   ],
   "source": [
    "# draw the embedding points, coloring them by the target label (paper subject)\n",
    "alpha = 0.7\n",
    "label_map = {l: i for i, l in enumerate(np.unique(subjects))}\n",
    "node_colours = [label_map[target] for target in subjects]\n",
    "\n",
    "plt.figure(figsize=(7, 7))\n",
    "plt.axes().set(aspect=\"equal\")\n",
    "plt.scatter(\n",
    "    node_embeddings_2d[:, 0],\n",
    "    node_embeddings_2d[:, 1],\n",
    "    # c=node_colours,\n",
    "    cmap=\"jet\",\n",
    "    alpha=alpha,\n",
    ")\n",
    "plt.title(\"{} visualization of node embeddings\".format(transform.__name__))\n",
    "plt.show()"
   ]
  },
  {
   "cell_type": "code",
   "execution_count": 57,
   "id": "8540a9bf-35dc-4200-8e41-7ea5476fb7c5",
   "metadata": {},
   "outputs": [
    {
     "name": "stdout",
     "output_type": "stream",
     "text": [
      "StellarGraph: Undirected multigraph\n",
      " Nodes: 27, Edges: 27\n",
      "\n",
      " Node types:\n",
      "  paper: [27]\n",
      "    Features: float32 vector, length 3703\n",
      "    Edge types: paper-cites->paper\n",
      "\n",
      " Edge types:\n",
      "    paper-cites->paper: [27]\n",
      "        Weights: all 1 (default)\n",
      "        Features: none\n"
     ]
    }
   ],
   "source": [
    "print(G.info())"
   ]
  },
  {
   "cell_type": "code",
   "execution_count": 62,
   "id": "cb8f478b-9930-44a5-9c5d-43bf8fe06dad",
   "metadata": {},
   "outputs": [
    {
     "data": {
      "text/plain": [
       "Index(['364207', '100157', '38848', 'bradshaw97introduction',\n",
       "       'bylund99coordinating', 'dix01metaagent', 'gray99finding',\n",
       "       'labrou01standardizing', 'labrou99agent', 'nodine98overview',\n",
       "       'nodine99active', 'wagner97artificial', '455651', '100598',\n",
       "       'marquez00machine', 'punyakanok01use', '104129', '106003',\n",
       "       'singhal99document', 'amer-yahia00boundingschemas', '106339',\n",
       "       'arlein99making', 'cluet99using', 'shasha02algorithmics', '184462',\n",
       "       '108321', '73962'],\n",
       "      dtype='object')"
      ]
     },
     "execution_count": 62,
     "metadata": {},
     "output_type": "execute_result"
    }
   ],
   "source": [
    "G.nodes()"
   ]
  },
  {
   "cell_type": "code",
   "execution_count": 65,
   "id": "ded76387-140d-4035-ace1-dd1664603abd",
   "metadata": {},
   "outputs": [
    {
     "data": {
      "text/plain": [
       "(1, 3703)"
      ]
     },
     "execution_count": 65,
     "metadata": {},
     "output_type": "execute_result"
    }
   ],
   "source": [
    "G.node_features([\"364207\"]).shape"
   ]
  },
  {
   "cell_type": "markdown",
   "id": "9381430d-16e1-4d09-973a-730bba6c484f",
   "metadata": {},
   "source": [
    "----"
   ]
  },
  {
   "cell_type": "markdown",
   "id": "8b56b1d1-c769-4180-ac28-1976af0e2f66",
   "metadata": {},
   "source": [
    "# Attri2vec on Soil food web"
   ]
  },
  {
   "cell_type": "code",
   "execution_count": null,
   "id": "d820880f-4016-4451-b8dc-770c2f8a470d",
   "metadata": {},
   "outputs": [],
   "source": [
    "g = G.copy()\n",
    "G_att = G.copy()\n",
    "\n",
    "import pickle\n",
    "trophic_levels_dict = pickle.load( open( \"results/trophic_levels_dict.pickle\", \"rb\" ) )\n",
    "avg_biomass_A = pickle.load( open( \"results/avg_biomass_A.pickle\", \"rb\") )\n",
    "avg_mass_A = pickle.load( open( \"results/avg_mass_A.pickle\", \"rb\") )\n",
    "avg_abund_A = pickle.load( open( \"results/avg_abund_A.pickle\", \"rb\") )\n",
    "\n",
    "# Add attributes to derived graph.\n",
    "nx.set_node_attributes(G_att, trophic_levels_dict, \"trophic_level\")\n",
    "nx.set_node_attributes(G_att, avg_biomass_A, \"Biomass\")\n",
    "nx.set_node_attributes(G_att, avg_mass_A, \"Mass\")\n",
    "nx.set_node_attributes(G_att, avg_abund_A, \"Abundance\")\n",
    "\n",
    "# G.nodes(data=True)"
   ]
  },
  {
   "cell_type": "code",
   "execution_count": null,
   "id": "b23dd154-4e32-4529-b564-a3eed1129dc7",
   "metadata": {},
   "outputs": [],
   "source": [
    "# TEST standardisation\n",
    "# from sklearn.preprocessing import StandardScaler\n",
    "    \n",
    "# scalled_avg_biomass_A = StandardScaler().fit_transform(avg_biomass_A)\n",
    "# # scalled_avg_biomass_A = pd.DataFrame(scaled_array, columns=scalled_avg_biomass_A.columns)"
   ]
  },
  {
   "cell_type": "code",
   "execution_count": null,
   "id": "e9fa536b-a988-4cda-b23a-7fd22ef60718",
   "metadata": {},
   "outputs": [],
   "source": [
    "d = {}\n",
    "\n",
    "for node, node_data in G_att.nodes(data=True):\n",
    "    d[node] = list(node_data.values())\n",
    "\n",
    "nx.set_node_attributes(G_att, d, name=\"features\")"
   ]
  },
  {
   "cell_type": "code",
   "execution_count": null,
   "id": "3d6824d6-5eac-4ce7-8891-49a6e193f094",
   "metadata": {},
   "outputs": [],
   "source": [
    "from stellargraph import StellarGraph\n",
    "from stellargraph.data import UnsupervisedSampler\n",
    "from stellargraph.mapper import Attri2VecLinkGenerator, Attri2VecNodeGenerator\n",
    "from stellargraph.layer import Attri2Vec, link_classification\n",
    "\n",
    "from tensorflow import keras\n",
    "\n",
    "from pandas.core.indexes.base import Index"
   ]
  },
  {
   "cell_type": "code",
   "execution_count": null,
   "id": "b437f80a-a9d2-4436-8975-cee248d0c4d3",
   "metadata": {},
   "outputs": [],
   "source": [
    "SG_att = StellarGraph.from_networkx(G_att, node_features=\"features\")"
   ]
  },
  {
   "cell_type": "code",
   "execution_count": null,
   "id": "839310f8-a9dc-4c52-bbc6-d9a2a1aece37",
   "metadata": {},
   "outputs": [],
   "source": [
    "print(SG_att.info())"
   ]
  },
  {
   "cell_type": "code",
   "execution_count": null,
   "id": "ca4b43db-c55d-4a9c-9568-c3d9f44d5b7a",
   "metadata": {},
   "outputs": [],
   "source": [
    "nodes = list(SG_att.nodes())\n",
    "number_of_walks = 20\n",
    "length = 5\n",
    "\n",
    "unsupervised_samples = UnsupervisedSampler(\n",
    "    SG_att, nodes=nodes, length=length, number_of_walks=number_of_walks\n",
    ")\n",
    "\n",
    "batch_size = 50\n",
    "epochs = 4\n",
    "\n",
    "generator = Attri2VecLinkGenerator(SG_att, batch_size)\n",
    "train_gen = generator.flow(unsupervised_samples)\n",
    "\n",
    "layer_sizes = [5]\n",
    "attri2vec = Attri2Vec(\n",
    "    layer_sizes=layer_sizes, generator=generator, bias=False, normalize=None\n",
    ")\n",
    "\n",
    "# Build the model and expose input and output sockets of attri2vec, for node pair inputs:\n",
    "x_inp, x_out = attri2vec.in_out_tensors()\n",
    "\n",
    "prediction = link_classification(\n",
    "    output_dim=1, output_act=\"sigmoid\", edge_embedding_method=\"ip\")(x_out)\n",
    "\n",
    "model = keras.Model(inputs=x_inp, outputs=prediction)\n",
    "\n",
    "model.compile(\n",
    "    optimizer=keras.optimizers.Adam(lr=1e-3),\n",
    "    loss=keras.losses.binary_crossentropy,\n",
    "    metrics=[keras.metrics.binary_accuracy],\n",
    ")\n",
    "\n",
    "\n",
    "history = model.fit(\n",
    "    train_gen,\n",
    "    epochs=epochs,\n",
    "    verbose=2,\n",
    "    use_multiprocessing=False,\n",
    "    workers=1,\n",
    "    shuffle=True,\n",
    ")"
   ]
  },
  {
   "cell_type": "code",
   "execution_count": null,
   "id": "783f4433-9762-4caf-934f-97c4f0ee043a",
   "metadata": {},
   "outputs": [],
   "source": [
    "from sklearn.manifold import TSNE\n",
    "from sklearn.decomposition import PCA\n",
    "\n",
    "x_inp_src = x_inp[0]\n",
    "x_out_src = x_out[0]\n",
    "embedding_model = keras.Model(inputs=x_inp_src, outputs=x_out_src)\n",
    "\n",
    "node_gen = Attri2VecNodeGenerator(SG_att, batch_size).flow(list(SG_att.nodes()))\n",
    "node_embeddings = embedding_model.predict(node_gen, workers=1, verbose=1)\n",
    "\n",
    "transform = TSNE #PCA   # \n",
    "\n",
    "trans = transform(n_components=2)\n",
    "node_embeddings_2d = trans.fit_transform(node_embeddings)\n",
    "\n",
    "# draw the embedding points, coloring them by the target label (paper subject)\n",
    "alpha = 0.7\n",
    "# label_map = {l: i for i, l in enumerate(np.unique(subjects))}\n",
    "# node_colours = [label_map[target] for target in subjects]\n",
    "\n",
    "plt.figure(figsize=(7, 7))\n",
    "plt.axes().set(aspect=\"equal\")\n",
    "plt.scatter(\n",
    "    node_embeddings_2d[:, 0],\n",
    "    node_embeddings_2d[:, 1],\n",
    "    # c=node_colours,\n",
    "    cmap=\"jet\",\n",
    "    alpha=alpha,\n",
    ")\n",
    "plt.title(\"{} visualization of node embeddings\".format(transform.__name__))\n",
    "plt.show()"
   ]
  }
 ],
 "metadata": {
  "kernelspec": {
   "display_name": "Python 3 (ipykernel)",
   "language": "python",
   "name": "python3"
  },
  "language_info": {
   "codemirror_mode": {
    "name": "ipython",
    "version": 3
   },
   "file_extension": ".py",
   "mimetype": "text/x-python",
   "name": "python",
   "nbconvert_exporter": "python",
   "pygments_lexer": "ipython3",
   "version": "3.8.0"
  }
 },
 "nbformat": 4,
 "nbformat_minor": 5
}
