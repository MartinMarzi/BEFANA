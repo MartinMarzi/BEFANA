{
 "cells": [
  {
   "cell_type": "code",
   "execution_count": 7,
   "id": "53d5f3e0-7469-4f78-8cbc-02aa2919b3ee",
   "metadata": {},
   "outputs": [],
   "source": [
    "import pandas as pd\n",
    "import networkx as nx\n",
    "import matplotlib.pyplot as plt\n",
    "import numpy as np\n",
    "from pyvis.network import Network as net"
   ]
  },
  {
   "cell_type": "code",
   "execution_count": 12,
   "id": "35110735-e489-49aa-8b3d-53d0840616bd",
   "metadata": {},
   "outputs": [],
   "source": [
    "g = nx.read_gpickle(\"objects/graph-A_3_0\")"
   ]
  },
  {
   "cell_type": "code",
   "execution_count": 13,
   "id": "ae9ba4dd-b219-48b6-8a39-d62234492ba1",
   "metadata": {},
   "outputs": [
    {
     "name": "stdout",
     "output_type": "stream",
     "text": [
      "DiGraph named 'Graph from soil food web adjacency matrix' with 24 nodes and 94 edges\n"
     ]
    }
   ],
   "source": [
    "print(nx.info(g))"
   ]
  },
  {
   "cell_type": "code",
   "execution_count": 14,
   "id": "437234a6-4e8e-450a-8cf7-10377aa02420",
   "metadata": {},
   "outputs": [
    {
     "data": {
      "text/plain": [
       "NodeDataView({'11 Plant-feeding nematode': {'trophic_level': 1, 'Biomass': 479278.83999999997, 'Mass': 6.031837019417812}, '31 Bacterivore nematode': {'trophic_level': 1, 'Biomass': 97189.95, 'Mass': 0.44778320101132774}, '45 Substrate-ingesting earthworm': {'trophic_level': 1, 'Biomass': 20876194.67, 'Mass': 656677.5800017535}, '23 Fungivore insect': {'trophic_level': 1, 'Biomass': 87314.16, 'Mass': 123.42029317311494}, '24 Fungivore enchytraeid': {'trophic_level': 1, 'Biomass': 666025.6699999999, 'Mass': 469.51500281899325}, '21 Fungivore nematode': {'trophic_level': 1, 'Biomass': 17869.440000000002, 'Mass': 0.060594173232088044}, '81 Omnivore nematode': {'trophic_level': 2, 'Biomass': 301148.6, 'Mass': 1.6196323444430343}, '13 Plant-feeding insect (springtail)': {'trophic_level': 1, 'Biomass': 12483.4, 'Mass': 8.82985650742963}, '44 Substrate-inhabiting enchytraeid': {'trophic_level': 1, 'Biomass': 213718.46000000002, 'Mass': 109.48778868944353}, '51 Predating nematode (consuming nematodes)': {'trophic_level': 3, 'Biomass': 43024.240000000005, 'Mass': 0.532567889263113}, '72 Generalist mite': {'trophic_level': 3, 'Biomass': 31643.86, 'Mass': 58.23197646335491}, '34 Bacterivore enchytraeid': {'trophic_level': 1, 'Biomass': 116602.3, 'Mass': 33.14754099441857}, '82 Omnivore mite': {'trophic_level': 2, 'Biomass': 18770.75, 'Mass': 19.50319135008504}, '12 Macrophytophage and panphytophage mite': {'trophic_level': 1, 'Biomass': 15889.73, 'Mass': 21.4219765600248}, '36 Bacterivore amoebae': {'trophic_level': 1, 'Biomass': 430441.33, 'Mass': 4.332808765847162e-05}, '37 Bacterivore flagellates': {'trophic_level': 1, 'Biomass': 147631.77, 'Mass': 5.581738950174688e-06}, '#0 Plant autotrophs (roots)': {'trophic_level': 0, 'Biomass': 839114314.65, 'Mass': 839114314.6535658}, '41 \"Passive lifestage, substrate-related nematode\"': {'trophic_level': 1, 'Biomass': 11682.96, 'Mass': 0.03982475480481081}, '48 Primary (heterotrophic) producer bacteria': {'trophic_level': 0, 'Biomass': 9439998.08, 'Mass': 1.004856778050055e-07}, '49 Primary (heterotrophic) producer fungi': {'trophic_level': 0, 'Biomass': 13499166.6, 'Mass': 13499166.596358478}, '22 Microphytophage mite (feeding on fungi)': {'trophic_level': 1, 'Biomass': 15405.630000000001, 'Mass': 20.308585374564515}, '62 Predatory mite (attacking arthropods)': {'trophic_level': 3, 'Biomass': 3162.28, 'Mass': 8.31763771102671}, '52 Predatory mite (attacking nematodes)': {'trophic_level': 3, 'Biomass': 1230.27, 'Mass': 1.62181009735893}, '92 Predatory mite (parasitizing mites and nematodes)': {'trophic_level': 3, 'Biomass': 0, 'Mass': 0}})"
      ]
     },
     "execution_count": 14,
     "metadata": {},
     "output_type": "execute_result"
    }
   ],
   "source": [
    "g.nodes(data=True)"
   ]
  },
  {
   "cell_type": "markdown",
   "id": "64267b4d-ab7b-4d3a-8c3a-4c01bc3a0af7",
   "metadata": {},
   "source": [
    "### Create network divided by trophic level 0 as source"
   ]
  },
  {
   "cell_type": "code",
   "execution_count": 188,
   "id": "a6e745f8-195f-49a7-b7aa-75fdf8cde50b",
   "metadata": {},
   "outputs": [],
   "source": [
    "# list of primary producers\n",
    "prim_prod = [\"#0 Plant autotrophs (roots)\", \"48 Primary (heterotrophic) producer bacteria\", \"49 Primary (heterotrophic) producer fungi\"]"
   ]
  },
  {
   "cell_type": "markdown",
   "id": "dfe456b6-4b97-4151-a10c-18c726475f64",
   "metadata": {},
   "source": [
    "#### #0 Plant autotrophs (roots)"
   ]
  },
  {
   "cell_type": "code",
   "execution_count": 189,
   "id": "c19d50b1-a1c7-4804-85f7-b282392661da",
   "metadata": {},
   "outputs": [],
   "source": [
    "# Keep only one primary producer in a new network\n",
    "g0 = nx.read_gpickle(\"objects/graph-A_3_0\")\n",
    "\n",
    "# selected primary porducer\n",
    "primary = \"#0 Plant autotrophs (roots)\"\n",
    "\n",
    "# remove other primary producer nodes\n",
    "for n in prim_prod:\n",
    "    if n != primary:\n",
    "        # remove from Nxgraph\n",
    "        g0.remove_node(n) "
   ]
  },
  {
   "cell_type": "code",
   "execution_count": 190,
   "id": "ddd760e4-44d7-4cfc-b4e3-602cfbd33caa",
   "metadata": {},
   "outputs": [],
   "source": [
    "# Remove invalid edges (trophic level must be eaqual or increase from source to target node) \n",
    "g_itr = g0.copy()\n",
    "for source, target in g_itr.edges():\n",
    "    if g_itr.nodes[source]['trophic_level'] > g_itr.nodes[target]['trophic_level']:\n",
    "        g0.remove_edge(source, target)"
   ]
  },
  {
   "cell_type": "code",
   "execution_count": 191,
   "id": "faec785f-ece6-47c6-8524-37235a099fbc",
   "metadata": {},
   "outputs": [
    {
     "name": "stdout",
     "output_type": "stream",
     "text": [
      "{'81 Omnivore nematode', '51 Predating nematode (consuming nematodes)', '13 Plant-feeding insect (springtail)', '45 Substrate-ingesting earthworm', '12 Macrophytophage and panphytophage mite', '11 Plant-feeding nematode', '62 Predatory mite (attacking arthropods)', '82 Omnivore mite', '72 Generalist mite', '92 Predatory mite (parasitizing mites and nematodes)', '52 Predatory mite (attacking nematodes)'}\n",
      "['31 Bacterivore nematode', '23 Fungivore insect', '24 Fungivore enchytraeid', '21 Fungivore nematode', '44 Substrate-inhabiting enchytraeid', '34 Bacterivore enchytraeid', '36 Bacterivore amoebae', '37 Bacterivore flagellates', '#0 Plant autotrophs (roots)', '41 \"Passive lifestage, substrate-related nematode\"', '22 Microphytophage mite (feeding on fungi)']\n"
     ]
    }
   ],
   "source": [
    "# Remove unreachable nodes\n",
    "\n",
    "# Find reachable nodes\n",
    "reach_nodes = nx.descendants(g0, \"#0 Plant autotrophs (roots)\")\n",
    "print(reach_nodes)\n",
    "\n",
    "# unreachable nodes\n",
    "unreach_nodes = [node for node in list(g0.nodes()) if node not in reach_nodes]\n",
    "print(unreach_nodes)\n",
    "\n",
    "# Remove unreachable nodes \n",
    "for node in unreach_nodes:\n",
    "    if node != primary:\n",
    "        g0.remove_node(node)"
   ]
  },
  {
   "cell_type": "code",
   "execution_count": 192,
   "id": "8125168c-7a63-49e6-ae04-89f794d3bf81",
   "metadata": {},
   "outputs": [
    {
     "data": {
      "text/plain": [
       "\"DiGraph named 'Graph from soil food web adjacency matrix' with 12 nodes and 43 edges\""
      ]
     },
     "execution_count": 192,
     "metadata": {},
     "output_type": "execute_result"
    }
   ],
   "source": [
    "nx.info(g0)"
   ]
  },
  {
   "cell_type": "code",
   "execution_count": 193,
   "id": "4e908a89-99fb-438e-be5c-bd3d65d19ceb",
   "metadata": {},
   "outputs": [
    {
     "data": {
      "text/plain": [
       "{'11 Plant-feeding nematode': 1,\n",
       " '31 Bacterivore nematode': 1,\n",
       " '45 Substrate-ingesting earthworm': 1,\n",
       " '23 Fungivore insect': 1,\n",
       " '24 Fungivore enchytraeid': 1,\n",
       " '21 Fungivore nematode': 1,\n",
       " '81 Omnivore nematode': 2,\n",
       " '13 Plant-feeding insect (springtail)': 1,\n",
       " '44 Substrate-inhabiting enchytraeid': 1,\n",
       " '51 Predating nematode (consuming nematodes)': 3,\n",
       " '72 Generalist mite': 3,\n",
       " '34 Bacterivore enchytraeid': 1,\n",
       " '82 Omnivore mite': 2,\n",
       " '12 Macrophytophage and panphytophage mite': 1,\n",
       " '36 Bacterivore amoebae': 1,\n",
       " '37 Bacterivore flagellates': 1,\n",
       " '#0 Plant autotrophs (roots)': 0,\n",
       " '41 \"Passive lifestage, substrate-related nematode\"': 1,\n",
       " '48 Primary (heterotrophic) producer bacteria': 0,\n",
       " '49 Primary (heterotrophic) producer fungi': 0,\n",
       " '22 Microphytophage mite (feeding on fungi)': 1,\n",
       " '62 Predatory mite (attacking arthropods)': 3,\n",
       " '52 Predatory mite (attacking nematodes)': 3,\n",
       " '92 Predatory mite (parasitizing mites and nematodes)': 3}"
      ]
     },
     "execution_count": 193,
     "metadata": {},
     "output_type": "execute_result"
    }
   ],
   "source": [
    "# Import trophic level as node attribute\n",
    "trophic_levels = pd.read_csv(\"data/trophic_levels_1_0.csv\", index_col=0, header=None, delimiter=\";\", names=[\"trophic_level\"])\n",
    "trophic_levels = trophic_levels.squeeze()\n",
    "\n",
    "# Create dict from trophic level Series\n",
    "troph_lev_dict = trophic_levels.to_dict()\n",
    "troph_lev_dict"
   ]
  },
  {
   "cell_type": "code",
   "execution_count": 194,
   "id": "996eb8c1-788b-4477-99d1-7d5b6982f6d7",
   "metadata": {},
   "outputs": [],
   "source": [
    "tlevel = list(troph_lev_dict.values())\n",
    "colours = [\"#40E0D0\", \"#DFFF00\", \"#FFBF00\", \"#DE3163\"]\n",
    "tlevel2color = {lev: colours[lev] for lev in tlevel}"
   ]
  },
  {
   "cell_type": "code",
   "execution_count": 195,
   "id": "dd71a1ee-a5d3-45a9-931c-b0ce302e6c3b",
   "metadata": {},
   "outputs": [],
   "source": [
    "# # create nodes list\n",
    "# nodes0 = list(g0.nodes())"
   ]
  },
  {
   "cell_type": "code",
   "execution_count": 196,
   "id": "862f64c2-df75-49d7-9c67-4b109b5f81a0",
   "metadata": {},
   "outputs": [],
   "source": [
    "def chunkstring(string, length):\n",
    "    return (string[0+i:length+i] for i in range(0, len(string), length))\n",
    "\n",
    "# Create a PyVis graph G\n",
    "G0 = net('800px', '1200px')\n",
    "# nodes = list(g.nodes())\n",
    "for node in g0.nodes():\n",
    "    G0.add_node(node, \n",
    "               label='\\n'.join(chunkstring(node,15)), \n",
    "               level=max(trophic_levels) - troph_lev_dict[node], \n",
    "               shape='box',\n",
    "               color=tlevel2color[troph_lev_dict[node]])"
   ]
  },
  {
   "cell_type": "code",
   "execution_count": 197,
   "id": "f2f4b8ee-8e7d-46fc-8182-aae4289af724",
   "metadata": {},
   "outputs": [],
   "source": [
    "# Add edges to PyVis graph\n",
    "for source, target in list(g0.edges()):\n",
    "    G0.add_edge(source, target)"
   ]
  },
  {
   "cell_type": "code",
   "execution_count": 198,
   "id": "514640b1-302b-4125-b0fe-c49758a78864",
   "metadata": {
    "tags": []
   },
   "outputs": [],
   "source": [
    "# Edges take on the color of the node they are coming from.\n",
    "G0.inherit_edge_colors(status=True)"
   ]
  },
  {
   "cell_type": "code",
   "execution_count": 202,
   "id": "d73b41d5-1ab5-4dd2-8669-8da34cbe8e92",
   "metadata": {},
   "outputs": [],
   "source": [
    "options= \"\"\"\n",
    "var options = {\n",
    "  \"edges\": {\n",
    "    \"arrows\": {\n",
    "      \"middle\": {\n",
    "        \"enabled\": true,\n",
    "        \"scaleFactor\": 0.85\n",
    "      }\n",
    "    },\n",
    "    \"color\": {\n",
    "      \"inherit\": true\n",
    "    },\n",
    "    \"smooth\": false\n",
    "  },\n",
    "  \"layout\": {\n",
    "    \"hierarchical\": {\n",
    "      \"enabled\": true,\n",
    "      \"nodeSpacing\": 200\n",
    "    }\n",
    "  },\n",
    "  \"interaction\": {\n",
    "    \"hover\": true,\n",
    "    \"navigationButtons\": true,\n",
    "    \"multiselect\": true\n",
    "  },\n",
    "  \"manipulation\": {\n",
    "    \"enabled\": true,\n",
    "    \"initiallyActive\": true\n",
    "  },\n",
    "  \"physics\": {\n",
    "    \"enabled\": true,\n",
    "    \"hierarchicalRepulsion\": {\n",
    "      \"centralGravity\": 0,\n",
    "      \"nodeDistance\": 190\n",
    "    },\n",
    "    \"minVelocity\": 0.75,\n",
    "    \"solver\": \"hierarchicalRepulsion\"\n",
    "  },\n",
    "  \"configure\": {\n",
    "    \"enabled\": true\n",
    "  }\n",
    "}\n",
    "\"\"\"\n",
    "# G.write_html('SFW_2.html')\n",
    "G0.conf = True\n",
    "G0.set_options(options)\n",
    "# G.show_buttons(filter_=True)  # if we enable this after setting options there is a bug so we use conf=True and JS settings\n",
    "G0.write_html('SFW0-0_1.html')"
   ]
  },
  {
   "cell_type": "code",
   "execution_count": 199,
   "id": "05e97a3d-bddd-404f-8430-674919dca7df",
   "metadata": {},
   "outputs": [],
   "source": [
    "# G0.show_buttons(filter_=True)\n",
    "# G0.show('SFW0-0_1.html')"
   ]
  },
  {
   "cell_type": "code",
   "execution_count": null,
   "id": "c59028fa-f61a-4c96-b580-713d302cc185",
   "metadata": {},
   "outputs": [],
   "source": [
    "# G48.set_options(\"\"\"\n",
    "# var options = {\n",
    "#   \"nodes\": {\n",
    "#     \"font\": {\n",
    "#       \"size\": 15,\n",
    "#       \"strokeWidth\": 5\n",
    "#     }\n",
    "#   },\n",
    "#   \"edges\": {\n",
    "#     \"arrows\": {\n",
    "#       \"middle\": {\n",
    "#         \"enabled\": true,\n",
    "#         \"scaleFactor\": 0.8\n",
    "#       }\n",
    "#     },\n",
    "#     \"color\": {\n",
    "#       \"inherit\": true\n",
    "#     },\n",
    "#     \"smooth\": false\n",
    "#   },\n",
    "#   \"physics\": {\n",
    "#     \"enabled\": false,\n",
    "#     \"minVelocity\": 0.75\n",
    "#   }\n",
    "# }\n",
    "# \"\"\") \n",
    "# G48.show('SFW-48_1.html')"
   ]
  },
  {
   "cell_type": "code",
   "execution_count": null,
   "id": "fe762ef6-34a7-487a-9300-a6b22e261781",
   "metadata": {},
   "outputs": [],
   "source": []
  }
 ],
 "metadata": {
  "kernelspec": {
   "display_name": "Python 3 (ipykernel)",
   "language": "python",
   "name": "python3"
  },
  "language_info": {
   "codemirror_mode": {
    "name": "ipython",
    "version": 3
   },
   "file_extension": ".py",
   "mimetype": "text/x-python",
   "name": "python",
   "nbconvert_exporter": "python",
   "pygments_lexer": "ipython3",
   "version": "3.8.0"
  }
 },
 "nbformat": 4,
 "nbformat_minor": 5
}
