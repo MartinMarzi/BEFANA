{
 "cells": [
  {
   "cell_type": "markdown",
   "id": "a29a68f7-9302-4517-9e71-c0068c208a17",
   "metadata": {},
   "source": [
    "## Part 2: Network construction, editing and visualization\n",
    "\n",
    "### 2.1 Network construction"
   ]
  },
  {
   "cell_type": "code",
   "execution_count": null,
   "id": "bb69267b-fea9-4911-93de-123544e531c4",
   "metadata": {},
   "outputs": [],
   "source": [
    "!pip -q install git+https://github.com/WestHealth/pyvis.git@7863a0778430b022523966e05e6aca59372fbf4d\n",
    "!pip -q install scipy "
   ]
  },
  {
   "cell_type": "code",
   "execution_count": null,
   "id": "403a990d-4c4b-4164-a33e-f6c6477038ed",
   "metadata": {},
   "outputs": [],
   "source": [
    "import pandas as pd\n",
    "import networkx as nx\n",
    "import matplotlib.pyplot as plt\n",
    "\n",
    "import ipywidgets as widgets\n",
    "from ipywidgets import interact, interactive, fixed, interact_manual,  HBox, VBox\n",
    "from IPython.display import display, HTML\n",
    "\n",
    "from utils.ui_functions import alert_user, StopExecution, make_download_button\n",
    "from utils.conf import my_style, my_layout"
   ]
  },
  {
   "cell_type": "markdown",
   "id": "18a4c727-f77d-4159-acbe-cb76b995fead",
   "metadata": {},
   "source": [
    "First, we need to load the data prepared in notebook 1."
   ]
  },
  {
   "cell_type": "code",
   "execution_count": null,
   "id": "30eac055-315c-4f50-b686-0605db947e2f",
   "metadata": {},
   "outputs": [],
   "source": [
    "sfw_matrix = pd.read_pickle('results/sfw_matrix.pickle')\n",
    "trophic_levels = pd.read_pickle('results/trophic_levels.pickle')"
   ]
  },
  {
   "cell_type": "markdown",
   "id": "1c25dd30-758b-4093-9fce-4f8ea52a9bc5",
   "metadata": {},
   "source": [
    "We have the option to name our network after the below cell is run."
   ]
  },
  {
   "cell_type": "code",
   "execution_count": null,
   "id": "d5e2adc4-5970-4848-9e11-e4b2670b02df",
   "metadata": {},
   "outputs": [],
   "source": [
    "G = nx.from_pandas_adjacency(sfw_matrix, create_using=nx.DiGraph)\n",
    "G.name = 'My network'\n",
    "# remove default edge weights\n",
    "for n1, n2, d in G.edges(data=True):\n",
    "    d.clear()\n",
    "    \n",
    "graph_name_input = widgets.Text(placeholder='The name of this network', value=G.name, description='Name:', disabled=False, style=my_style)\n",
    "rename_button = widgets.Button(description='Rename', disabled=False, button_style='primary',icon='edit')\n",
    "rename_log = widgets.Output(layout={'border': '1px solid blue'})\n",
    "display(rename_log)\n",
    "def rename_graph(widget_name):\n",
    "    G.name = graph_name_input.value\n",
    "    rename_log.clear_output()\n",
    "    rename_log.append_display_data(f'Graph renamed to \"{G.name}\"')\n",
    "rename_button.on_click(rename_graph)\n",
    "\n",
    "# TODO make sure the network has a name\n",
    "HBox([graph_name_input, rename_button])"
   ]
  },
  {
   "cell_type": "markdown",
   "id": "48954743-9a35-48b6-8823-2c8effcb4a17",
   "metadata": {},
   "source": [
    "The below cell provides some basic information about the network."
   ]
  },
  {
   "cell_type": "code",
   "execution_count": null,
   "id": "98ce8d5e-7153-4614-b8c8-227ea1863351",
   "metadata": {
    "tags": []
   },
   "outputs": [],
   "source": [
    "if not G.name:\n",
    "    alert_user('The network does not have a name!\\nPlease use the \"Rename\" button in the above cell.')\n",
    "    raise StopExecution\n",
    "\n",
    "print('--- Basic network info ---')\n",
    "print(f'Name: {G.name}')\n",
    "typ = 'directed' if nx.is_directed(G) else 'undirected'\n",
    "print(f'Type: {typ}')\n",
    "print(f'Nodes: {G.number_of_nodes()}')\n",
    "print(f'Edges: {G.number_of_edges()}')\n",
    "sc = 'yes' if nx.is_strongly_connected(G) else 'no'\n",
    "print(f'Strongly connected: {sc}')\n",
    "print(f'Density: {nx.density(G):.5f}')"
   ]
  },
  {
   "cell_type": "markdown",
   "id": "8926ff2b-7ef7-423b-afdc-07164ceb1a6c",
   "metadata": {},
   "source": [
    "### 2.2 Network editing"
   ]
  },
  {
   "cell_type": "markdown",
   "id": "46af2e68-fcba-4e90-a785-40de3a5982ae",
   "metadata": {},
   "source": [
    "With this cell a GUI is loaded that allows to remove nodes from the network if needed."
   ]
  },
  {
   "cell_type": "code",
   "execution_count": null,
   "id": "088a80af-0a07-448a-8b69-8a53f384d2cd",
   "metadata": {},
   "outputs": [],
   "source": [
    "select_node_dropdown = widgets.Dropdown(options=sorted(list(G.nodes)), description='Selected node:', disabled=False, \n",
    "                                        layout=my_layout, style=my_style)\n",
    "delete_button = widgets.Button(description='Delete this node', disabled=False, button_style='danger',icon='trash')\n",
    "delete_log = widgets.Output(layout={'border': '1px solid blue'})\n",
    "def button_action(widget_name):\n",
    "    selected_node = select_node_dropdown.value\n",
    "    if selected_node:\n",
    "        G.remove_node(selected_node)\n",
    "        select_node_dropdown.options = sorted(list(G.nodes))\n",
    "        delete_log.append_display_data(f'Node \"{selected_node}\" was removed')\n",
    "delete_button.on_click(button_action)\n",
    "display(delete_log)\n",
    "HBox([select_node_dropdown, delete_button])"
   ]
  },
  {
   "cell_type": "markdown",
   "id": "531fdaaa-8e90-4440-a4dc-6d6a4da91f59",
   "metadata": {},
   "source": [
    "### 2.3 Network visualization\n",
    "\n",
    "#### Static visualization of general graphs\n",
    "\n",
    "Analysis of networks often begins with a visual inspection. Therefore, a function is provided which draws the input network using the Kamada-Kawai layout algorithm."
   ]
  },
  {
   "cell_type": "code",
   "execution_count": null,
   "id": "fe23d256-290d-4875-81f1-34810fb018c5",
   "metadata": {},
   "outputs": [],
   "source": [
    "from utils.functions import draw_network\n",
    "\n",
    "fig, ax = plt.subplots(figsize=(20, 20))\n",
    "draw_network(G, ax)"
   ]
  },
  {
   "cell_type": "markdown",
   "id": "638e229b-52c8-451e-9b26-2bbe623904b2",
   "metadata": {},
   "source": [
    "### Interactive visualization of layered (hierarchical) networks\n",
    "\n",
    "Here a specialized interactive visualization of hierarchical networks is provided which is especially important when visulising food webs. After the cell is run a GUI offers three ways of viewing the network and some formating. Note that \"Draw inline\" and \"Open in new tab\" offer interactive visualisation. Important: Due to a limitation in PyVis only one visualisation canvas can be opened at the same time, therefore close the other opened notebook that uses PyVis (either notebook 2 or 3)."
   ]
  },
  {
   "cell_type": "code",
   "execution_count": null,
   "id": "89d6f85f-9c34-4a13-a82d-8cb6f2711318",
   "metadata": {
    "tags": []
   },
   "outputs": [],
   "source": [
    "import textwrap\n",
    "import webbrowser\n",
    "from pyvis.network import Network\n",
    "from utils import conf\n",
    "from utils import functions\n",
    "from utils.ui_functions import make_network_download_button\n",
    "import copy\n",
    "\n",
    "trophic_levels_dict = trophic_levels.to_dict()\n",
    "\n",
    "out = widgets.Output(layout={'border': '0px'})\n",
    "@out.capture()\n",
    "def draw_network_inline(widget_name):\n",
    "    out.clear_output()\n",
    "    vis_G = prepare_visualization()\n",
    "    GG = copy.copy(vis_G)\n",
    "    GG.conf = False\n",
    "    GG.set_options(conf.hierarchical_food_web_visual_settings_inline)\n",
    "    display(HTML(GG.generate_html()))\n",
    "\n",
    "def draw_network_new_tab():\n",
    "    vis_G = prepare_visualization()\n",
    "    GG = copy.copy(vis_G)\n",
    "    GG.conf = True\n",
    "    GG.set_options(conf.hierarchical_food_web_visual_settings_standalone)\n",
    "    web_page = f'results/{G.name}.html'\n",
    "    GG.write_html(web_page)\n",
    "    #webbrowser.open(web_page, new=1, autoraise=True)\n",
    "    #webbrowser.open_new(web_page)\n",
    "    display(HTML(f\"\"\"<a target=\"_blank\" href=\"{web_page}\"><button type=\"button\" style=\"background-color:green;color:white;margin-left:3px;width:140px;height:30px;border-width:0px;\">Open in new tab</button></a>\"\"\"))\n",
    "\n",
    "    \n",
    "\n",
    "color_select = widgets.Dropdown(options=['viridis', 'plasma', 'inferno', 'magma', 'cividis', 'bone', 'pink',\n",
    "                                         'spring', 'summer', 'autumn', 'winter', 'cool', 'Wistia', 'hot', 'afmhot', \n",
    "                                         'gist_heat', 'copper'],\n",
    "                                value='spring',           \n",
    "                                description='Colormap:',\n",
    "                                disabled=False)\n",
    "shape_select = widgets.Dropdown(options=['ellipse', 'circle', 'database', 'box', 'text', 'diamond', 'dot', 'star', \n",
    "                                         'triangle', 'triangleDown', 'hexagon', 'square'],\n",
    "                                value='box',           \n",
    "                                description='Node shape:',\n",
    "                                disabled=False)\n",
    "label_width_slider  = widgets.IntSlider(value=20, min=6, max=40, step=2, description='Label width:', disabled=False,\n",
    "                                        continuous_update=False, orientation='horizontal', readout=True, readout_format='d')\n",
    "draw_inline_button = widgets.Button(description='Draw inline', disabled=False, button_style='primary')\n",
    "# draw_outside_button = widgets.Button(description='Open in new tab', disabled=False, button_style='primary')\n",
    "# draw_outside_button.style.button_color = 'green'\n",
    "draw_inline_button.on_click(draw_network_inline)\n",
    "# draw_outside_button.on_click(draw_network_new_tab)\n",
    "\n",
    "def prepare_visualization():\n",
    "    colors = functions.get_colors(len(set(trophic_levels)), colormap=color_select.value)\n",
    "    vis_G = Network('800px', '1200px', notebook=False)\n",
    "    # add nodes\n",
    "    for node in G.nodes():\n",
    "        vis_G.add_node(node, \n",
    "                       label='\\n'.join(textwrap.wrap(node, label_width_slider.value, break_long_words=True)), \n",
    "                       level=max(trophic_levels) - trophic_levels_dict.get(node,-1), \n",
    "                       shape=shape_select.value,\n",
    "                       color=colors[trophic_levels_dict[node]] if node in trophic_levels_dict else '#FFFFFF')\n",
    "    # and edges\n",
    "    for source, target in list(G.edges()):\n",
    "        vis_G.add_edge(source, target)\n",
    "    return vis_G  \n",
    "\n",
    "delete_log = widgets.Output(layout={'border': '1px solid blue'})\n",
    "display(delete_log)\n",
    "\n",
    "\n",
    "display(VBox([color_select, shape_select, label_width_slider, draw_inline_button]))  #, draw_outside_button]))\n",
    "draw_network_new_tab()\n",
    "display(HTML(make_network_download_button(G.name)))\n",
    "display(out)"
   ]
  },
  {
   "cell_type": "code",
   "execution_count": null,
   "id": "47932cda-ca5f-4fe7-97a8-b23991309508",
   "metadata": {},
   "outputs": [],
   "source": [
    "nx.write_gpickle(G, 'results/G.pickle')"
   ]
  },
  {
   "cell_type": "code",
   "execution_count": null,
   "id": "08702e47-e30f-45be-ae0c-0b9027d1bcd2",
   "metadata": {},
   "outputs": [],
   "source": []
  }
 ],
 "metadata": {
  "kernelspec": {
   "display_name": "Python 3 (ipykernel)",
   "language": "python",
   "name": "python3"
  },
  "language_info": {
   "codemirror_mode": {
    "name": "ipython",
    "version": 3
   },
   "file_extension": ".py",
   "mimetype": "text/x-python",
   "name": "python",
   "nbconvert_exporter": "python",
   "pygments_lexer": "ipython3",
   "version": "3.8.0"
  }
 },
 "nbformat": 4,
 "nbformat_minor": 5
}
