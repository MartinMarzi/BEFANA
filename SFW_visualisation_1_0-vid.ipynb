{
 "cells": [
  {
   "cell_type": "code",
   "execution_count": 1,
   "id": "53d5f3e0-7469-4f78-8cbc-02aa2919b3ee",
   "metadata": {},
   "outputs": [],
   "source": [
    "import pandas as pd\n",
    "import networkx as nx\n",
    "import matplotlib.pyplot as plt\n",
    "import numpy as np\n",
    "from pyvis.network import Network as net"
   ]
  },
  {
   "cell_type": "code",
   "execution_count": 2,
   "id": "35110735-e489-49aa-8b3d-53d0840616bd",
   "metadata": {},
   "outputs": [],
   "source": [
    "g = nx.read_gpickle(\"objects/graph-A_3_0\")"
   ]
  },
  {
   "cell_type": "code",
   "execution_count": 3,
   "id": "ae9ba4dd-b219-48b6-8a39-d62234492ba1",
   "metadata": {},
   "outputs": [
    {
     "name": "stdout",
     "output_type": "stream",
     "text": [
      "DiGraph named 'Graph from soil food web adjacency matrix' with 24 nodes and 94 edges\n"
     ]
    }
   ],
   "source": [
    "print(nx.info(g))"
   ]
  },
  {
   "cell_type": "code",
   "execution_count": 4,
   "id": "4e908a89-99fb-438e-be5c-bd3d65d19ceb",
   "metadata": {},
   "outputs": [
    {
     "data": {
      "text/plain": [
       "{'11 Plant-feeding nematode': 1,\n",
       " '31 Bacterivore nematode': 1,\n",
       " '45 Substrate-ingesting earthworm': 1,\n",
       " '23 Fungivore insect': 1,\n",
       " '24 Fungivore enchytraeid': 1,\n",
       " '21 Fungivore nematode': 1,\n",
       " '81 Omnivore nematode': 2,\n",
       " '13 Plant-feeding insect (springtail)': 1,\n",
       " '44 Substrate-inhabiting enchytraeid': 1,\n",
       " '51 Predating nematode (consuming nematodes)': 3,\n",
       " '72 Generalist mite': 3,\n",
       " '34 Bacterivore enchytraeid': 1,\n",
       " '82 Omnivore mite': 2,\n",
       " '12 Macrophytophage and panphytophage mite': 1,\n",
       " '36 Bacterivore amoebae': 1,\n",
       " '37 Bacterivore flagellates': 1,\n",
       " '#0 Plant autotrophs (roots)': 0,\n",
       " '41 \"Passive lifestage, substrate-related nematode\"': 1,\n",
       " '48 Primary (heterotrophic) producer bacteria': 0,\n",
       " '49 Primary (heterotrophic) producer fungi': 0,\n",
       " '22 Microphytophage mite (feeding on fungi)': 1,\n",
       " '62 Predatory mite (attacking arthropods)': 3,\n",
       " '52 Predatory mite (attacking nematodes)': 3,\n",
       " '92 Predatory mite (parasitizing mites and nematodes)': 3}"
      ]
     },
     "execution_count": 4,
     "metadata": {},
     "output_type": "execute_result"
    }
   ],
   "source": [
    "# Import trophic level as node attribute\n",
    "trophic_levels = pd.read_csv(\"data/trophic_levels_1_0.csv\", index_col=0, header=None, delimiter=\";\", names=[\"trophic_level\"])\n",
    "trophic_levels = trophic_levels.squeeze()\n",
    "\n",
    "# Create dict from trophic level Series\n",
    "troph_lev_dict = trophic_levels.to_dict()\n",
    "troph_lev_dict"
   ]
  },
  {
   "cell_type": "code",
   "execution_count": 5,
   "id": "5e9920e6-1c6b-439b-96da-f396b3671628",
   "metadata": {},
   "outputs": [],
   "source": [
    "trophic_levels = list(troph_lev_dict.values())\n",
    "colours = [\"#40E0D0\", \"#DFFF00\", \"#FFBF00\", \"#DE3163\"]\n",
    "tlevel2color = {lev: colours[lev] for lev in trophic_levels}"
   ]
  },
  {
   "cell_type": "code",
   "execution_count": 6,
   "id": "862f64c2-df75-49d7-9c67-4b109b5f81a0",
   "metadata": {},
   "outputs": [],
   "source": [
    "def chunkstring(string, length):\n",
    "    return (string[0+i:length+i] for i in range(0, len(string), length))\n",
    "\n",
    "# Create a PyVis graph G\n",
    "G = net('800px', '1200px')\n",
    "nodes = list(g.nodes())\n",
    "for node in g.nodes():\n",
    "    G.add_node(node, \n",
    "               label='\\n'.join(chunkstring(node,15)), \n",
    "               level=max(trophic_levels) - troph_lev_dict[node], \n",
    "               shape='box',\n",
    "               color=tlevel2color[troph_lev_dict[node]])"
   ]
  },
  {
   "cell_type": "code",
   "execution_count": 7,
   "id": "019bc56f-abd3-4b5b-a79f-f025d4198d67",
   "metadata": {},
   "outputs": [],
   "source": [
    "# Add edges to PyVis graph G\n",
    "for source, target in list(g.edges()):\n",
    "    G.add_edge(source, target)"
   ]
  },
  {
   "cell_type": "code",
   "execution_count": 8,
   "id": "514640b1-302b-4125-b0fe-c49758a78864",
   "metadata": {
    "tags": []
   },
   "outputs": [],
   "source": [
    "# Edges take on the color of the node they are coming from.\n",
    "G.inherit_edge_colors(status=True)"
   ]
  },
  {
   "cell_type": "code",
   "execution_count": 9,
   "id": "c59028fa-f61a-4c96-b580-713d302cc185",
   "metadata": {},
   "outputs": [],
   "source": [
    "options= \"\"\"\n",
    "var options = {\n",
    "  \"edges\": {\n",
    "    \"arrows\": {\n",
    "      \"middle\": {\n",
    "        \"enabled\": true,\n",
    "        \"scaleFactor\": 0.85\n",
    "      }\n",
    "    },\n",
    "    \"color\": {\n",
    "      \"inherit\": true\n",
    "    },\n",
    "    \"smooth\": false\n",
    "  },\n",
    "  \"layout\": {\n",
    "    \"hierarchical\": {\n",
    "      \"enabled\": true,\n",
    "      \"nodeSpacing\": 200\n",
    "    }\n",
    "  },\n",
    "  \"interaction\": {\n",
    "    \"hover\": true,\n",
    "    \"navigationButtons\": true,\n",
    "    \"multiselect\": true\n",
    "  },\n",
    "  \"manipulation\": {\n",
    "    \"enabled\": true,\n",
    "    \"initiallyActive\": true\n",
    "  },\n",
    "  \"physics\": {\n",
    "    \"enabled\": true,\n",
    "    \"hierarchicalRepulsion\": {\n",
    "      \"centralGravity\": 0,\n",
    "      \"nodeDistance\": 190\n",
    "    },\n",
    "    \"minVelocity\": 0.75,\n",
    "    \"solver\": \"hierarchicalRepulsion\"\n",
    "  },\n",
    "  \"configure\": {\n",
    "    \"enabled\": true\n",
    "  }\n",
    "}\n",
    "\"\"\"\n",
    "# G.write_html('SFW_2.html')\n",
    "G.conf = True\n",
    "G.set_options(options)\n",
    "# G.show_buttons(filter_=True)  # if we enable this after setting options there is a bug so we use conf=True and JS settings\n",
    "G.write_html('SFW_2.html')"
   ]
  }
 ],
 "metadata": {
  "kernelspec": {
   "display_name": "Python 3",
   "language": "python",
   "name": "python3"
  },
  "language_info": {
   "codemirror_mode": {
    "name": "ipython",
    "version": 3
   },
   "file_extension": ".py",
   "mimetype": "text/x-python",
   "name": "python",
   "nbconvert_exporter": "python",
   "pygments_lexer": "ipython3",
   "version": "3.8.10"
  }
 },
 "nbformat": 4,
 "nbformat_minor": 5
}
